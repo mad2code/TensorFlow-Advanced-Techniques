{
  "nbformat": 4,
  "nbformat_minor": 0,
  "metadata": {
    "accelerator": "GPU",
    "kernelspec": {
      "display_name": "Python 3",
      "language": "python",
      "name": "python3"
    },
    "language_info": {
      "codemirror_mode": {
        "name": "ipython",
        "version": 3
      },
      "file_extension": ".py",
      "mimetype": "text/x-python",
      "name": "python",
      "nbconvert_exporter": "python",
      "pygments_lexer": "ipython3",
      "version": "3.7.4"
    },
    "colab": {
      "name": "Copy of C3W3_Assignment.ipynb",
      "provenance": [],
      "collapsed_sections": []
    }
  },
  "cells": [
    {
      "cell_type": "markdown",
      "metadata": {
        "id": "k6x_sGPQocpw"
      },
      "source": [
        "# Week 3 Assignment: Image Segmentation of Handwritten Digits\n",
        "\n",
        "<img src='https://drive.google.com/uc?export=view&id=1-WBX7w_R9abwdGmAUBFWWEcJ0LkMppq2' alt='m2nist digits'>\n",
        "\n",
        "In this week's assignment, you will build a model that predicts the segmentation masks (pixel-wise label map) of handwritten digits. This model will be trained on the [M2NIST dataset](https://www.kaggle.com/farhanhubble/multimnistm2nist), a multi digit MNIST. If you've done the ungraded lab on the CamVid dataset, then many of the steps here will look familiar.\n",
        "\n",
        "You will build a Convolutional Neural Network (CNN) from scratch for the downsampling path and use a Fully Convolutional Network, FCN-8, to upsample and produce the pixel-wise label map. The model will be evaluated using the intersection over union (IOU) and Dice Score. Finally, you will download the model and upload it to the grader in Coursera to get your score for the assignment."
      ]
    },
    {
      "cell_type": "markdown",
      "metadata": {
        "id": "cnr0kbM0g2LD"
      },
      "source": [
        "## Exercises\n",
        "\n",
        "We've given you some boilerplate code to work with and these are the 5 exercises you need to fill out before you can successfully get the segmentation masks.\n",
        "\n",
        "* [Exercise 1 - Define the Basic Convolution Block](#exercise-1)\n",
        "* [Exercise 2 - Define the Downsampling Path](#exercise-2)\n",
        "* [Exercise 3 - Define the FCN-8 decoder](#exercise-3)\n",
        "* [Exercise 4 - Compile the Model](#exercise-4)\n",
        "* [Exercise 5 - Model Training](#exercise-5)"
      ]
    },
    {
      "cell_type": "markdown",
      "metadata": {
        "id": "MZ3g9dJxSxmN"
      },
      "source": [
        "## Imports\n",
        "\n",
        "As usual, let's start by importing the packages you will use in this lab."
      ]
    },
    {
      "cell_type": "code",
      "metadata": {
        "id": "aifz2907kxYN",
        "colab": {
          "base_uri": "https://localhost:8080/"
        },
        "outputId": "5a08e2b5-a667-4874-df78-1f966af4969d"
      },
      "source": [
        "try:\n",
        "  # %tensorflow_version only exists in Colab.\n",
        "  %tensorflow_version 2.x\n",
        "except Exception:\n",
        "  pass\n",
        "\n",
        "import os\n",
        "import zipfile\n",
        "\n",
        "import PIL.Image, PIL.ImageFont, PIL.ImageDraw\n",
        "import numpy as np\n",
        "from matplotlib import pyplot as plt\n",
        "\n",
        "import tensorflow as tf\n",
        "import tensorflow_datasets as tfds\n",
        "from sklearn.model_selection import train_test_split\n",
        "\n",
        "print(\"Tensorflow version \" + tf.__version__)"
      ],
      "execution_count": 2,
      "outputs": [
        {
          "output_type": "stream",
          "text": [
            "Tensorflow version 2.5.0\n"
          ],
          "name": "stdout"
        }
      ]
    },
    {
      "cell_type": "markdown",
      "metadata": {
        "id": "7RYh6cCzXE6R"
      },
      "source": [
        "## Download the dataset"
      ]
    },
    {
      "cell_type": "markdown",
      "metadata": {
        "id": "QUGGF3wfqYni"
      },
      "source": [
        "[M2NIST](https://www.kaggle.com/farhanhubble/multimnistm2nist) is a **multi digit** [MNIST](http://yann.lecun.com/exdb/mnist/). \n",
        "Each image has up to 3 digits from MNIST digits and the corresponding labels file has the segmentation masks.\n",
        "\n",
        "The dataset is available on [Kaggle](https://www.kaggle.com) and you can find it [here](https://www.kaggle.com/farhanhubble/multimnistm2nist)\n",
        "\n",
        "To make it easier for you, we're hosting it on Google Cloud so you can download without Kaggle credentials.\n"
      ]
    },
    {
      "cell_type": "code",
      "metadata": {
        "id": "ROok0i9rMcu0",
        "colab": {
          "base_uri": "https://localhost:8080/"
        },
        "outputId": "45ac6a86-ee9c-46a5-987f-77ee82cf7027"
      },
      "source": [
        "# download zipped dataset\n",
        "!wget --no-check-certificate \\\n",
        "    https://storage.googleapis.com/laurencemoroney-blog.appspot.com/m2nist.zip \\\n",
        "    -O /tmp/m2nist.zip\n",
        "\n",
        "# find and extract to a local folder ('/tmp/training')\n",
        "local_zip = '/tmp/m2nist.zip'\n",
        "zip_ref = zipfile.ZipFile(local_zip, 'r')\n",
        "zip_ref.extractall('/tmp/training')\n",
        "zip_ref.close()"
      ],
      "execution_count": 3,
      "outputs": [
        {
          "output_type": "stream",
          "text": [
            "--2021-08-11 15:10:16--  https://storage.googleapis.com/laurencemoroney-blog.appspot.com/m2nist.zip\n",
            "Resolving storage.googleapis.com (storage.googleapis.com)... 142.250.141.128, 142.251.2.128, 74.125.137.128, ...\n",
            "Connecting to storage.googleapis.com (storage.googleapis.com)|142.250.141.128|:443... connected.\n",
            "HTTP request sent, awaiting response... 200 OK\n",
            "Length: 17378168 (17M) [application/zip]\n",
            "Saving to: ‘/tmp/m2nist.zip’\n",
            "\n",
            "/tmp/m2nist.zip     100%[===================>]  16.57M  --.-KB/s    in 0.1s    \n",
            "\n",
            "2021-08-11 15:10:17 (124 MB/s) - ‘/tmp/m2nist.zip’ saved [17378168/17378168]\n",
            "\n"
          ],
          "name": "stdout"
        }
      ]
    },
    {
      "cell_type": "markdown",
      "metadata": {
        "id": "xy17LYR7XJNa"
      },
      "source": [
        "## Load and Preprocess the Dataset"
      ]
    },
    {
      "cell_type": "markdown",
      "metadata": {
        "id": "LXGMrWnkrvpK"
      },
      "source": [
        "This dataset can be easily preprocessed since it is available as **Numpy Array Files (.npy)**\n",
        "\n",
        "1. **combined.npy** has the image files containing the multiple MNIST digits. Each image is of size **64 x 84** (height x width, in pixels).\n",
        "\n",
        "2. **segmented.npy** has the corresponding segmentation masks. Each segmentation mask is also of size **64 x 84**.\n",
        "\n",
        "This dataset has **5000** samples and you can make appropriate training, validation, and test splits as required for the problem.\n",
        "\n",
        "With that, let's define a few utility functions for loading and preprocessing the dataset."
      ]
    },
    {
      "cell_type": "code",
      "metadata": {
        "id": "Jy_pw5I2-xLP"
      },
      "source": [
        "BATCH_SIZE = 32\n",
        "\n",
        "def read_image_and_annotation(image, annotation):\n",
        "  '''\n",
        "  Casts the image and annotation to their expected data type and\n",
        "  normalizes the input image so that each pixel is in the range [-1, 1]\n",
        "\n",
        "  Args:\n",
        "    image (numpy array) -- input image\n",
        "    annotation (numpy array) -- ground truth label map\n",
        "\n",
        "  Returns:\n",
        "    preprocessed image-annotation pair\n",
        "  '''\n",
        "\n",
        "  image = tf.cast(image, dtype=tf.float32)\n",
        "  image = tf.reshape(image, (image.shape[0], image.shape[1], 1,))\n",
        "  annotation = tf.cast(annotation, dtype=tf.int32)\n",
        "  image = image / 127.5\n",
        "  image -= 1\n",
        "\n",
        "  return image, annotation\n",
        "\n",
        "\n",
        "def get_training_dataset(images, annos):\n",
        "  '''\n",
        "  Prepares shuffled batches of the training set.\n",
        "  \n",
        "  Args:\n",
        "    images (list of strings) -- paths to each image file in the train set\n",
        "    annos (list of strings) -- paths to each label map in the train set\n",
        "\n",
        "  Returns:\n",
        "    tf Dataset containing the preprocessed train set\n",
        "  '''\n",
        "  training_dataset = tf.data.Dataset.from_tensor_slices((images, annos))\n",
        "  training_dataset = training_dataset.map(read_image_and_annotation)\n",
        "\n",
        "  training_dataset = training_dataset.shuffle(512, reshuffle_each_iteration=True)\n",
        "  training_dataset = training_dataset.batch(BATCH_SIZE)\n",
        "  training_dataset = training_dataset.repeat()\n",
        "  training_dataset = training_dataset.prefetch(-1)\n",
        "\n",
        "  return training_dataset\n",
        "\n",
        "\n",
        "def get_validation_dataset(images, annos):\n",
        "  '''\n",
        "  Prepares batches of the validation set.\n",
        "  \n",
        "  Args:\n",
        "    images (list of strings) -- paths to each image file in the val set\n",
        "    annos (list of strings) -- paths to each label map in the val set\n",
        "\n",
        "  Returns:\n",
        "    tf Dataset containing the preprocessed validation set\n",
        "  '''\n",
        "  validation_dataset = tf.data.Dataset.from_tensor_slices((images, annos))\n",
        "  validation_dataset = validation_dataset.map(read_image_and_annotation)\n",
        "  validation_dataset = validation_dataset.batch(BATCH_SIZE)\n",
        "  validation_dataset = validation_dataset.repeat()\n",
        "\n",
        "  return validation_dataset\n",
        "\n",
        "\n",
        "def get_test_dataset(images, annos):\n",
        "  '''\n",
        "  Prepares batches of the test set.\n",
        "  \n",
        "  Args:\n",
        "    images (list of strings) -- paths to each image file in the test set\n",
        "    annos (list of strings) -- paths to each label map in the test set\n",
        "\n",
        "  Returns:\n",
        "    tf Dataset containing the preprocessed validation set\n",
        "  '''\n",
        "  test_dataset = tf.data.Dataset.from_tensor_slices((images, annos))\n",
        "  test_dataset = test_dataset.map(read_image_and_annotation)\n",
        "  test_dataset = test_dataset.batch(BATCH_SIZE, drop_remainder=True)\n",
        "\n",
        "  return test_dataset\n",
        "\n",
        "\n",
        "def load_images_and_segments():\n",
        "  '''\n",
        "  Loads the images and segments as numpy arrays from npy files \n",
        "  and makes splits for training, validation and test datasets.\n",
        "\n",
        "  Returns:\n",
        "    3 tuples containing the train, val, and test splits\n",
        "  '''\n",
        "\n",
        "  #Loads images and segmentation masks.\n",
        "  images = np.load('/tmp/training/combined.npy')\n",
        "  segments = np.load('/tmp/training/segmented.npy')\n",
        "\n",
        "  #Makes training, validation, test splits from loaded images and segmentation masks.\n",
        "  train_images, val_images, train_annos, val_annos = train_test_split(images, segments, test_size=0.2, shuffle=True)\n",
        "  val_images, test_images, val_annos, test_annos = train_test_split(val_images, val_annos, test_size=0.2, shuffle=True)\n",
        "\n",
        "  return (train_images, train_annos), (val_images, val_annos), (test_images, test_annos)\n"
      ],
      "execution_count": 4,
      "outputs": []
    },
    {
      "cell_type": "markdown",
      "metadata": {
        "id": "iPHO1YbTACcu"
      },
      "source": [
        "You can now load the preprocessed dataset and define the training, validation, and test sets."
      ]
    },
    {
      "cell_type": "code",
      "metadata": {
        "id": "hIS70_um_Y7n",
        "lines_to_next_cell": 2
      },
      "source": [
        "# Load Dataset\n",
        "train_slices, val_slices, test_slices = load_images_and_segments()\n",
        "\n",
        "# Create training, validation, test datasets.\n",
        "training_dataset = get_training_dataset(train_slices[0], train_slices[1])\n",
        "validation_dataset = get_validation_dataset(val_slices[0], val_slices[1])\n",
        "test_dataset = get_test_dataset(test_slices[0], test_slices[1])"
      ],
      "execution_count": 5,
      "outputs": []
    },
    {
      "cell_type": "markdown",
      "metadata": {
        "id": "oKXJYZi7A0dF"
      },
      "source": [
        "## Let's Take a Look at the Dataset\n",
        "\n",
        "You may want to visually inspect the dataset before and after training. Like above, we've included utility functions to help show a few images as well as their annotations (i.e. labels)."
      ]
    },
    {
      "cell_type": "code",
      "metadata": {
        "cellView": "both",
        "id": "d46YCbvPafbp"
      },
      "source": [
        "# Visualization Utilities\n",
        "\n",
        "# there are 11 classes in the dataset: one class for each digit (0 to 9) plus the background class\n",
        "n_classes = 11\n",
        "\n",
        "# assign a random color for each class\n",
        "colors = [tuple(np.random.randint(256, size=3) / 255.0) for i in range(n_classes)]\n",
        "\n",
        "def fuse_with_pil(images):\n",
        "  '''\n",
        "  Creates a blank image and pastes input images\n",
        "\n",
        "  Args:\n",
        "    images (list of numpy arrays) - numpy array representations of the images to paste\n",
        "  \n",
        "  Returns:\n",
        "    PIL Image object containing the images\n",
        "  '''\n",
        "\n",
        "  widths = (image.shape[1] for image in images)\n",
        "  heights = (image.shape[0] for image in images)\n",
        "  total_width = sum(widths)\n",
        "  max_height = max(heights)\n",
        "\n",
        "  new_im = PIL.Image.new('RGB', (total_width, max_height))\n",
        "\n",
        "  x_offset = 0\n",
        "  for im in images:\n",
        "    pil_image = PIL.Image.fromarray(np.uint8(im))\n",
        "    new_im.paste(pil_image, (x_offset,0))\n",
        "    x_offset += im.shape[1]\n",
        "  \n",
        "  return new_im\n",
        "\n",
        "\n",
        "def give_color_to_annotation(annotation):\n",
        "  '''\n",
        "  Converts a 2-D annotation to a numpy array with shape (height, width, 3) where\n",
        "  the third axis represents the color channel. The label values are multiplied by\n",
        "  255 and placed in this axis to give color to the annotation\n",
        "\n",
        "  Args:\n",
        "    annotation (numpy array) - label map array\n",
        "  \n",
        "  Returns:\n",
        "    the annotation array with an additional color channel/axis\n",
        "  '''\n",
        "  seg_img = np.zeros( (annotation.shape[0],annotation.shape[1], 3) ).astype('float')\n",
        "  \n",
        "  for c in range(n_classes):\n",
        "    segc = (annotation == c)\n",
        "    seg_img[:,:,0] += segc*( colors[c][0] * 255.0)\n",
        "    seg_img[:,:,1] += segc*( colors[c][1] * 255.0)\n",
        "    seg_img[:,:,2] += segc*( colors[c][2] * 255.0)\n",
        "  \n",
        "  return seg_img\n",
        "\n",
        "\n",
        "def show_annotation_and_prediction(image, annotation, prediction, iou_list, dice_score_list):\n",
        "  '''\n",
        "  Displays the images with the ground truth and predicted label maps. Also overlays the metrics.\n",
        "\n",
        "  Args:\n",
        "    image (numpy array) -- the input image\n",
        "    annotation (numpy array) -- the ground truth label map\n",
        "    prediction (numpy array) -- the predicted label map\n",
        "    iou_list (list of floats) -- the IOU values for each class\n",
        "    dice_score_list (list of floats) -- the Dice Score for each class\n",
        "  '''\n",
        "\n",
        "  new_ann = np.argmax(annotation, axis=2)\n",
        "  true_img = give_color_to_annotation(new_ann)\n",
        "  pred_img = give_color_to_annotation(prediction)\n",
        "\n",
        "  image = image + 1\n",
        "  image = image * 127.5\n",
        "  image = np.reshape(image, (image.shape[0], image.shape[1],))\n",
        "  image = np.uint8(image)\n",
        "  images = [image, np.uint8(pred_img), np.uint8(true_img)]\n",
        "\n",
        "  metrics_by_id = [(idx, iou, dice_score) for idx, (iou, dice_score) in enumerate(zip(iou_list, dice_score_list)) if iou > 0.0 and idx < 10]\n",
        "  metrics_by_id.sort(key=lambda tup: tup[1], reverse=True)  # sorts in place\n",
        "\n",
        "  display_string_list = [\"{}: IOU: {} Dice Score: {}\".format(idx, iou, dice_score) for idx, iou, dice_score in metrics_by_id]\n",
        "  display_string = \"\\n\".join(display_string_list)\n",
        "\n",
        "  plt.figure(figsize=(15, 4))\n",
        "\n",
        "  for idx, im in enumerate(images):\n",
        "    plt.subplot(1, 3, idx+1)\n",
        "    if idx == 1:\n",
        "      plt.xlabel(display_string)\n",
        "    plt.xticks([])\n",
        "    plt.yticks([])\n",
        "    plt.imshow(im)\n",
        "\n",
        "\n",
        "def show_annotation_and_image(image, annotation):\n",
        "  '''\n",
        "  Displays the image and its annotation side by side\n",
        "\n",
        "  Args:\n",
        "    image (numpy array) -- the input image\n",
        "    annotation (numpy array) -- the label map\n",
        "  '''\n",
        "  new_ann = np.argmax(annotation, axis=2)\n",
        "  seg_img = give_color_to_annotation(new_ann)\n",
        "  \n",
        "  image = image + 1\n",
        "  image = image * 127.5\n",
        "  image = np.reshape(image, (image.shape[0], image.shape[1],))\n",
        "\n",
        "  image = np.uint8(image)\n",
        "  images = [image, seg_img]\n",
        "  \n",
        "  images = [image, seg_img]\n",
        "  fused_img = fuse_with_pil(images)\n",
        "  plt.imshow(fused_img)\n",
        "\n",
        "\n",
        "def list_show_annotation(dataset, num_images):\n",
        "  '''\n",
        "  Displays images and its annotations side by side\n",
        "\n",
        "  Args:\n",
        "    dataset (tf Dataset) -- batch of images and annotations\n",
        "    num_images (int) -- number of images to display\n",
        "  '''\n",
        "  ds = dataset.unbatch()\n",
        "\n",
        "  plt.figure(figsize=(20, 15))\n",
        "  plt.title(\"Images And Annotations\")\n",
        "  plt.subplots_adjust(bottom=0.1, top=0.9, hspace=0.05)\n",
        "\n",
        "  for idx, (image, annotation) in enumerate(ds.take(num_images)):\n",
        "    plt.subplot(5, 5, idx + 1)\n",
        "    plt.yticks([])\n",
        "    plt.xticks([])\n",
        "    show_annotation_and_image(image.numpy(), annotation.numpy())\n"
      ],
      "execution_count": 6,
      "outputs": []
    },
    {
      "cell_type": "markdown",
      "metadata": {
        "id": "hEfyChmKEFKe"
      },
      "source": [
        "You can view a subset of the images from the dataset with the `list_show_annotation()` function defined above. Run the cells below to see the image on the left and its pixel-wise ground truth label map on the right."
      ]
    },
    {
      "cell_type": "code",
      "metadata": {
        "id": "AFO_hIhLWYT4",
        "colab": {
          "base_uri": "https://localhost:8080/",
          "height": 282
        },
        "outputId": "f76aeafa-5697-480c-bab9-91d9ca19d37e"
      },
      "source": [
        "# get 10 images from the training set\n",
        "list_show_annotation(training_dataset, 10)"
      ],
      "execution_count": 7,
      "outputs": [
        {
          "output_type": "display_data",
          "data": {
            "image/png": "[encoded data removed]",
            "text/plain": [
              "<Figure size 1440x1080 with 10 Axes>"
            ]
          },
          "metadata": {
            "tags": []
          }
        }
      ]
    },
    {
      "cell_type": "code",
      "metadata": {
        "id": "bdgVkp8wZua0",
        "colab": {
          "base_uri": "https://localhost:8080/",
          "height": 282
        },
        "outputId": "8a487f92-c770-43c1-8fa7-79ee8c617c4a"
      },
      "source": [
        "# get 10 images from the validation set\n",
        "list_show_annotation(validation_dataset, 10)"
      ],
      "execution_count": 8,
      "outputs": [
        {
          "output_type": "display_data",
          "data": {
            "image/png": "[encoded data removed]",
            "text/plain": [
              "<Figure size 1440x1080 with 10 Axes>"
            ]
          },
          "metadata": {
            "tags": []
          }
        }
      ]
    },
    {
      "cell_type": "markdown",
      "metadata": {
        "id": "KkpgIcE2FeKI"
      },
      "source": [
        "You see from the images above the colors assigned to each class (i.e 0 to 9 plus the background). If you don't like these colors, feel free to rerun the cell where `colors` is defined to get another set of random colors. Alternatively, you can assign the RGB values for each class instead of relying on random values."
      ]
    },
    {
      "cell_type": "markdown",
      "metadata": {
        "id": "QFv2k8xabRb8"
      },
      "source": [
        "## Define the Model"
      ]
    },
    {
      "cell_type": "markdown",
      "metadata": {
        "id": "Q_ylpyqJDQiF"
      },
      "source": [
        "As discussed in the lectures, the image segmentation model will have two paths:\n",
        "\n",
        "1. **Downsampling Path** - This part of the network extracts the features in the image. This is done through a series of convolution and pooling layers. The final output is a reduced image (because of the pooling layers) with the extracted features. You will build a custom CNN from scratch for this path.\n",
        "\n",
        "2. **Upsampling Path** - This takes the output of the downsampling path and generates the predictions while also converting the image back to its original size. You will use an FCN-8 decoder for this path."
      ]
    },
    {
      "cell_type": "markdown",
      "metadata": {
        "id": "BHlBUZvsDybt"
      },
      "source": [
        "### Define the Basic Convolution Block"
      ]
    },
    {
      "cell_type": "markdown",
      "metadata": {
        "id": "T-XO9xkN1OR3"
      },
      "source": [
        "<a name='exercise-1'></a>\n",
        "\n",
        "#### **Exercise 1**\n",
        "\n",
        "Please complete the function below to build the basic convolution block for our CNN. This will have two [Conv2D](https://keras.io/api/layers/convolution_layers/convolution2d/) layers each followed by a [LeakyReLU](https://keras.io/api/layers/activation_layers/leaky_relu/), then [max pooled](https://keras.io/api/layers/pooling_layers/max_pooling2d/) and [batch-normalized](https://keras.io/api/layers/normalization_layers/batch_normalization/). Use the functional syntax to stack these layers.\n",
        "\n",
        "$$Input -> Conv2D -> LeakyReLU -> Conv2D -> LeakyReLU -> MaxPooling2D -> BatchNormalization$$\n",
        "\n",
        "When defining the Conv2D layers, note that our data inputs will have the 'channels' dimension last. You may want to check the `data_format` argument in the [docs](https://keras.io/api/layers/convolution_layers/convolution2d/) regarding this. Take note of the `padding` argument too like you did in the ungraded labs.\n",
        "\n",
        "Lastly, to use the `LeakyReLU` activation, you **do not** need to nest it inside an `Activation` layer (e.g. `x = tf.keras.layers.Activation(tf.keras.layers.LeakyReLU()(x)`). You can simply stack the layer directly instead (e.g. `x = tf.keras.layers.LeakyReLU()(x)`)"
      ]
    },
    {
      "cell_type": "code",
      "metadata": {
        "id": "azEEVytHR0Kn"
      },
      "source": [
        "# parameter describing where the channel dimension is found in our dataset\n",
        "IMAGE_ORDERING = 'channels_last'\n",
        "\n",
        "def conv_block(input, filters, kernel_size, pooling_size, pool_strides):\n",
        "  '''\n",
        "  Args:\n",
        "    input (tensor) -- batch of images or features\n",
        "    filters (int) -- number of filters of the Conv2D layers\n",
        "    kernel_size (int) -- kernel_size setting of the Conv2D layers\n",
        "    pooling_size (int) -- pooling size of the MaxPooling2D layers\n",
        "    pool_strides (int) -- strides setting of the MaxPooling2D layers\n",
        "  \n",
        "  Returns:\n",
        "    (tensor) max pooled and batch-normalized features of the input \n",
        "  '''\n",
        "  ### START CODE HERE ###\n",
        "  # use the functional syntax to stack the layers as shown in the diagram above\n",
        "  x = tf.keras.layers.Conv2D(filters, kernel_size, padding='same', data_format=IMAGE_ORDERING)(input)\n",
        "  x = tf.keras.layers.LeakyReLU()(x)\n",
        "  x = tf.keras.layers.Conv2D(filters, kernel_size, padding='same')(x)\n",
        "  x = tf.keras.layers.LeakyReLU()(x)\n",
        "  x = tf.keras.layers.MaxPooling2D(pool_size= pooling_size, strides= pool_strides)(x)\n",
        "  x = tf.keras.layers.BatchNormalization()(x)\n",
        "  ### END CODE HERE ###\n",
        "\n",
        "  return x"
      ],
      "execution_count": 9,
      "outputs": []
    },
    {
      "cell_type": "code",
      "metadata": {
        "id": "uGtlHuM6KCRg",
        "colab": {
          "base_uri": "https://localhost:8080/"
        },
        "outputId": "ebd3b27f-44db-4955-d81b-f98d28ec772c"
      },
      "source": [
        "# TEST CODE:\n",
        "\n",
        "test_input = tf.keras.layers.Input(shape=(64,84, 1))\n",
        "test_output = conv_block(test_input, 32, 3, 2, 2)\n",
        "test_model = tf.keras.Model(inputs=test_input, outputs=test_output)\n",
        "\n",
        "print(test_model.summary())\n",
        "\n",
        "# free up test resources\n",
        "del test_input, test_output, test_model"
      ],
      "execution_count": 10,
      "outputs": [
        {
          "output_type": "stream",
          "text": [
            "Model: \"model\"\n",
            "_________________________________________________________________\n",
            "Layer (type)                 Output Shape              Param #   \n",
            "=================================================================\n",
            "input_1 (InputLayer)         [(None, 64, 84, 1)]       0         \n",
            "_________________________________________________________________\n",
            "conv2d (Conv2D)              (None, 64, 84, 32)        320       \n",
            "_________________________________________________________________\n",
            "leaky_re_lu (LeakyReLU)      (None, 64, 84, 32)        0         \n",
            "_________________________________________________________________\n",
            "conv2d_1 (Conv2D)            (None, 64, 84, 32)        9248      \n",
            "_________________________________________________________________\n",
            "leaky_re_lu_1 (LeakyReLU)    (None, 64, 84, 32)        0         \n",
            "_________________________________________________________________\n",
            "max_pooling2d (MaxPooling2D) (None, 32, 42, 32)        0         \n",
            "_________________________________________________________________\n",
            "batch_normalization (BatchNo (None, 32, 42, 32)        128       \n",
            "=================================================================\n",
            "Total params: 9,696\n",
            "Trainable params: 9,632\n",
            "Non-trainable params: 64\n",
            "_________________________________________________________________\n",
            "None\n"
          ],
          "name": "stdout"
        }
      ]
    },
    {
      "cell_type": "markdown",
      "metadata": {
        "id": "Mmf_ZaMP2rV3"
      },
      "source": [
        "**Expected Output**:\n",
        "\n",
        "Please pay attention to the *(type)* and *Output Shape* columns. The *Layer* name beside the type may be different depending on how many times you ran the cell (e.g. `input_7` can be `input_1`)\n",
        "\n",
        "```txt\n",
        "Model: \"functional_1\"\n",
        "_________________________________________________________________\n",
        "Layer (type)                 Output Shape              Param #   \n",
        "=================================================================\n",
        "input_1 (InputLayer)         [(None, 64, 84, 1)]       0         \n",
        "_________________________________________________________________\n",
        "conv2d (Conv2D)              (None, 64, 84, 32)        320       \n",
        "_________________________________________________________________\n",
        "leaky_re_lu (LeakyReLU)      (None, 64, 84, 32)        0         \n",
        "_________________________________________________________________\n",
        "conv2d_1 (Conv2D)            (None, 64, 84, 32)        9248      \n",
        "_________________________________________________________________\n",
        "leaky_re_lu_1 (LeakyReLU)    (None, 64, 84, 32)        0         \n",
        "_________________________________________________________________\n",
        "max_pooling2d (MaxPooling2D) (None, 32, 42, 32)        0         \n",
        "_________________________________________________________________\n",
        "batch_normalization (BatchNo (None, 32, 42, 32)        128       \n",
        "=================================================================\n",
        "Total params: 9,696\n",
        "Trainable params: 9,632\n",
        "Non-trainable params: 64\n",
        "_________________________________________________________________\n",
        "None\n",
        "```"
      ]
    },
    {
      "cell_type": "markdown",
      "metadata": {
        "id": "4-jJbC91EXTV"
      },
      "source": [
        "### Define the Downsampling Path"
      ]
    },
    {
      "cell_type": "markdown",
      "metadata": {
        "id": "e2ueOTmc3HxJ"
      },
      "source": [
        "<a name='exercise-2'></a>\n",
        "\n",
        "#### **Exercise 2**\n",
        "\n",
        "Now that we've defined the building block of our encoder, you can now build the downsampling path. Please complete the function below to create the encoder. This should chain together five convolution building blocks to create a feature extraction CNN minus the fully connected layers.\n",
        "\n",
        "*Notes*: \n",
        "1. To optimize processing or to make the output dimensions of each layer easier to work with, it is sometimes advisable to apply some zero-padding to the input image. With the boilerplate code we have provided below, we have padded the input width to 96 pixels using the [ZeroPadding2D layer](https://keras.io/api/layers/reshaping_layers/zero_padding2d/). This works well if you're going to use the first ungraded lab of this week as reference. This is not required however. You can remove it later and see how it will affect your parameters. For instance, you might need to pass in a non-square kernel size to the decoder in Exercise 3 (e.g. `(4,5)`) to match the output dimensions of Exercise 2. \n",
        "\n",
        "2. We recommend keeping the pool size and stride parameters constant at 2."
      ]
    },
    {
      "cell_type": "code",
      "metadata": {
        "id": "F2VNB99LRwQr"
      },
      "source": [
        "def FCN8(input_height=64, input_width=84):\n",
        "    '''\n",
        "    Defines the downsampling path of the image segmentation model.\n",
        "\n",
        "    Args:\n",
        "      input_height (int) -- height of the images\n",
        "      width (int) -- width of the images\n",
        "\n",
        "    Returns:\n",
        "    (tuple of tensors, tensor)\n",
        "      tuple of tensors -- features extracted at blocks 3 to 5\n",
        "      tensor -- copy of the input\n",
        "    '''\n",
        "   \n",
        "    img_input = tf.keras.layers.Input(shape=(input_height,input_width, 1))\n",
        "\n",
        "    ### START CODE HERE ###\n",
        "    \n",
        "    # pad the input image width to 96 pixels\n",
        "    x = tf.keras.layers.ZeroPadding2D(padding = (0, 6))(img_input)\n",
        "\n",
        "    # Block 1\n",
        "    x = conv_block(x, 32, 3, 2, 2)\n",
        "    \n",
        "    # Block 2\n",
        "    x = conv_block(x, 64, 3, 2, 2)\n",
        "\n",
        "    # Block 3\n",
        "    x = conv_block(x, 128, 3, 2, 2)\n",
        "    # save the feature map at this stage\n",
        "    f3 = x\n",
        "\n",
        "    # Block 4\n",
        "    x = conv_block(x, 256, 3, 2, 2)\n",
        "    # save the feature map at this stage\n",
        "    f4 = x\n",
        "\n",
        "    # Block 5\n",
        "    x = conv_block(x, 256, 3, 2, 2)\n",
        "    # save the feature map at this stage\n",
        "    f5 = x\n",
        "\n",
        "    ### END CODE HERE ###\n",
        "  \n",
        "    return (f3, f4, f5), img_input"
      ],
      "execution_count": 11,
      "outputs": []
    },
    {
      "cell_type": "code",
      "metadata": {
        "id": "HVQm1W0CNICS",
        "colab": {
          "base_uri": "https://localhost:8080/"
        },
        "outputId": "6a9ba862-c02f-43f4-d212-e6a88a4ba5d0"
      },
      "source": [
        "# TEST CODE:\n",
        "\n",
        "test_convs, test_img_input = FCN8()\n",
        "test_model = tf.keras.Model(inputs=test_img_input, outputs=[test_convs, test_img_input])\n",
        "\n",
        "print(test_model.summary())\n",
        "\n",
        "del test_convs, test_img_input, test_model"
      ],
      "execution_count": 12,
      "outputs": [
        {
          "output_type": "stream",
          "text": [
            "Model: \"model_1\"\n",
            "_________________________________________________________________\n",
            "Layer (type)                 Output Shape              Param #   \n",
            "=================================================================\n",
            "input_2 (InputLayer)         [(None, 64, 84, 1)]       0         \n",
            "_________________________________________________________________\n",
            "zero_padding2d (ZeroPadding2 (None, 64, 96, 1)         0         \n",
            "_________________________________________________________________\n",
            "conv2d_2 (Conv2D)            (None, 64, 96, 32)        320       \n",
            "_________________________________________________________________\n",
            "leaky_re_lu_2 (LeakyReLU)    (None, 64, 96, 32)        0         \n",
            "_________________________________________________________________\n",
            "conv2d_3 (Conv2D)            (None, 64, 96, 32)        9248      \n",
            "_________________________________________________________________\n",
            "leaky_re_lu_3 (LeakyReLU)    (None, 64, 96, 32)        0         \n",
            "_________________________________________________________________\n",
            "max_pooling2d_1 (MaxPooling2 (None, 32, 48, 32)        0         \n",
            "_________________________________________________________________\n",
            "batch_normalization_1 (Batch (None, 32, 48, 32)        128       \n",
            "_________________________________________________________________\n",
            "conv2d_4 (Conv2D)            (None, 32, 48, 64)        18496     \n",
            "_________________________________________________________________\n",
            "leaky_re_lu_4 (LeakyReLU)    (None, 32, 48, 64)        0         \n",
            "_________________________________________________________________\n",
            "conv2d_5 (Conv2D)            (None, 32, 48, 64)        36928     \n",
            "_________________________________________________________________\n",
            "leaky_re_lu_5 (LeakyReLU)    (None, 32, 48, 64)        0         \n",
            "_________________________________________________________________\n",
            "max_pooling2d_2 (MaxPooling2 (None, 16, 24, 64)        0         \n",
            "_________________________________________________________________\n",
            "batch_normalization_2 (Batch (None, 16, 24, 64)        256       \n",
            "_________________________________________________________________\n",
            "conv2d_6 (Conv2D)            (None, 16, 24, 128)       73856     \n",
            "_________________________________________________________________\n",
            "leaky_re_lu_6 (LeakyReLU)    (None, 16, 24, 128)       0         \n",
            "_________________________________________________________________\n",
            "conv2d_7 (Conv2D)            (None, 16, 24, 128)       147584    \n",
            "_________________________________________________________________\n",
            "leaky_re_lu_7 (LeakyReLU)    (None, 16, 24, 128)       0         \n",
            "_________________________________________________________________\n",
            "max_pooling2d_3 (MaxPooling2 (None, 8, 12, 128)        0         \n",
            "_________________________________________________________________\n",
            "batch_normalization_3 (Batch (None, 8, 12, 128)        512       \n",
            "_________________________________________________________________\n",
            "conv2d_8 (Conv2D)            (None, 8, 12, 256)        295168    \n",
            "_________________________________________________________________\n",
            "leaky_re_lu_8 (LeakyReLU)    (None, 8, 12, 256)        0         \n",
            "_________________________________________________________________\n",
            "conv2d_9 (Conv2D)            (None, 8, 12, 256)        590080    \n",
            "_________________________________________________________________\n",
            "leaky_re_lu_9 (LeakyReLU)    (None, 8, 12, 256)        0         \n",
            "_________________________________________________________________\n",
            "max_pooling2d_4 (MaxPooling2 (None, 4, 6, 256)         0         \n",
            "_________________________________________________________________\n",
            "batch_normalization_4 (Batch (None, 4, 6, 256)         1024      \n",
            "_________________________________________________________________\n",
            "conv2d_10 (Conv2D)           (None, 4, 6, 256)         590080    \n",
            "_________________________________________________________________\n",
            "leaky_re_lu_10 (LeakyReLU)   (None, 4, 6, 256)         0         \n",
            "_________________________________________________________________\n",
            "conv2d_11 (Conv2D)           (None, 4, 6, 256)         590080    \n",
            "_________________________________________________________________\n",
            "leaky_re_lu_11 (LeakyReLU)   (None, 4, 6, 256)         0         \n",
            "_________________________________________________________________\n",
            "max_pooling2d_5 (MaxPooling2 (None, 2, 3, 256)         0         \n",
            "_________________________________________________________________\n",
            "batch_normalization_5 (Batch (None, 2, 3, 256)         1024      \n",
            "=================================================================\n",
            "Total params: 2,354,784\n",
            "Trainable params: 2,353,312\n",
            "Non-trainable params: 1,472\n",
            "_________________________________________________________________\n",
            "None\n"
          ],
          "name": "stdout"
        }
      ]
    },
    {
      "cell_type": "markdown",
      "metadata": {
        "id": "sxklZe_D3jOI"
      },
      "source": [
        "**Expected Output**:\n",
        "\n",
        "You should see the layers of your `conv_block()` being repeated 5 times like the output below.\n",
        "\n",
        "```txt\n",
        "Model: \"functional_3\"\n",
        "_________________________________________________________________\n",
        "Layer (type)                 Output Shape              Param #   \n",
        "=================================================================\n",
        "input_3 (InputLayer)         [(None, 64, 84, 1)]       0         \n",
        "_________________________________________________________________\n",
        "zero_padding2d (ZeroPadding2 (None, 64, 96, 1)         0         \n",
        "_________________________________________________________________\n",
        "conv2d_2 (Conv2D)            (None, 64, 96, 32)        320       \n",
        "_________________________________________________________________\n",
        "leaky_re_lu_2 (LeakyReLU)    (None, 64, 96, 32)        0         \n",
        "_________________________________________________________________\n",
        "conv2d_3 (Conv2D)            (None, 64, 96, 32)        9248      \n",
        "_________________________________________________________________\n",
        "leaky_re_lu_3 (LeakyReLU)    (None, 64, 96, 32)        0         \n",
        "_________________________________________________________________\n",
        "max_pooling2d_1 (MaxPooling2 (None, 32, 48, 32)        0         \n",
        "_________________________________________________________________\n",
        "batch_normalization_1 (Batch (None, 32, 48, 32)        128       \n",
        "_________________________________________________________________\n",
        "conv2d_4 (Conv2D)            (None, 32, 48, 64)        18496     \n",
        "_________________________________________________________________\n",
        "leaky_re_lu_4 (LeakyReLU)    (None, 32, 48, 64)        0         \n",
        "_________________________________________________________________\n",
        "conv2d_5 (Conv2D)            (None, 32, 48, 64)        36928     \n",
        "_________________________________________________________________\n",
        "leaky_re_lu_5 (LeakyReLU)    (None, 32, 48, 64)        0         \n",
        "_________________________________________________________________\n",
        "max_pooling2d_2 (MaxPooling2 (None, 16, 24, 64)        0         \n",
        "_________________________________________________________________\n",
        "batch_normalization_2 (Batch (None, 16, 24, 64)        256       \n",
        "_________________________________________________________________\n",
        "conv2d_6 (Conv2D)            (None, 16, 24, 128)       73856     \n",
        "_________________________________________________________________\n",
        "leaky_re_lu_6 (LeakyReLU)    (None, 16, 24, 128)       0         \n",
        "_________________________________________________________________\n",
        "conv2d_7 (Conv2D)            (None, 16, 24, 128)       147584    \n",
        "_________________________________________________________________\n",
        "leaky_re_lu_7 (LeakyReLU)    (None, 16, 24, 128)       0         \n",
        "_________________________________________________________________\n",
        "max_pooling2d_3 (MaxPooling2 (None, 8, 12, 128)        0         \n",
        "_________________________________________________________________\n",
        "batch_normalization_3 (Batch (None, 8, 12, 128)        512       \n",
        "_________________________________________________________________\n",
        "conv2d_8 (Conv2D)            (None, 8, 12, 256)        295168    \n",
        "_________________________________________________________________\n",
        "leaky_re_lu_8 (LeakyReLU)    (None, 8, 12, 256)        0         \n",
        "_________________________________________________________________\n",
        "conv2d_9 (Conv2D)            (None, 8, 12, 256)        590080    \n",
        "_________________________________________________________________\n",
        "leaky_re_lu_9 (LeakyReLU)    (None, 8, 12, 256)        0         \n",
        "_________________________________________________________________\n",
        "max_pooling2d_4 (MaxPooling2 (None, 4, 6, 256)         0         \n",
        "_________________________________________________________________\n",
        "batch_normalization_4 (Batch (None, 4, 6, 256)         1024      \n",
        "_________________________________________________________________\n",
        "conv2d_10 (Conv2D)           (None, 4, 6, 256)         590080    \n",
        "_________________________________________________________________\n",
        "leaky_re_lu_10 (LeakyReLU)   (None, 4, 6, 256)         0         \n",
        "_________________________________________________________________\n",
        "conv2d_11 (Conv2D)           (None, 4, 6, 256)         590080    \n",
        "_________________________________________________________________\n",
        "leaky_re_lu_11 (LeakyReLU)   (None, 4, 6, 256)         0         \n",
        "_________________________________________________________________\n",
        "max_pooling2d_5 (MaxPooling2 (None, 2, 3, 256)         0         \n",
        "_________________________________________________________________\n",
        "batch_normalization_5 (Batch (None, 2, 3, 256)         1024      \n",
        "=================================================================\n",
        "Total params: 2,354,784\n",
        "Trainable params: 2,353,312\n",
        "Non-trainable params: 1,472\n",
        "_________________________________________________________________\n",
        "None\n",
        "```"
      ]
    },
    {
      "cell_type": "markdown",
      "metadata": {
        "id": "LbjYEQU8Eq-T"
      },
      "source": [
        "### Define the FCN-8 decoder"
      ]
    },
    {
      "cell_type": "markdown",
      "metadata": {
        "id": "Ux5nAU155E5O"
      },
      "source": [
        "<a name='exercise-3'></a>\n",
        "\n",
        "#### **Exercise 3**\n",
        "\n",
        "Now you can define the upsampling path taking the outputs of convolutions at each stage as arguments. This will be very similar to what you did in the ungraded lab (VGG16-FCN8-CamVid) so you can refer to it if you need a refresher. \n",
        "* Note: remember to set the `data_format` parameter for the Conv2D layers. \n",
        "\n",
        "Here is also the diagram you saw in class on how it should work:\n",
        "\n",
        "<img src='https://drive.google.com/uc?export=view&id=1lrqB4YegV8jXWNfyYAaeuFlwXIc54aRP' alt='fcn-8'>"
      ]
    },
    {
      "cell_type": "code",
      "metadata": {
        "id": "giYEct_Se5Xj"
      },
      "source": [
        "def fcn8_decoder(convs, n_classes):\n",
        "  # features from the encoder stage\n",
        "  f3, f4, f5 = convs\n",
        "\n",
        "  # number of filters\n",
        "  n = 512\n",
        "\n",
        "  # add convolutional layers on top of the CNN extractor.\n",
        "  o = tf.keras.layers.Conv2D(n , (7 , 7) , activation='relu' , padding='same', name=\"conv6\", data_format=IMAGE_ORDERING)(f5)\n",
        "  o = tf.keras.layers.Dropout(0.5)(o)\n",
        "\n",
        "  o = tf.keras.layers.Conv2D(n , (1 , 1) , activation='relu' , padding='same', name=\"conv7\", data_format=IMAGE_ORDERING)(o)\n",
        "  o = tf.keras.layers.Dropout(0.5)(o)\n",
        "\n",
        "  o = tf.keras.layers.Conv2D(n_classes,  (1, 1), activation='relu' , padding='same', data_format=IMAGE_ORDERING)(o)\n",
        "\n",
        "    \n",
        "  ### START CODE HERE ###\n",
        "\n",
        "  # Upsample `o` above and crop any extra pixels introduced\n",
        "  o = tf.keras.layers.Conv2DTranspose(n_classes , kernel_size=(4,4) ,  strides=(2,2))(o)\n",
        "  o = tf.keras.layers.Cropping2D(cropping=(1,1))(o)\n",
        "\n",
        "  # load the pool 4 prediction and do a 1x1 convolution to reshape it to the same shape of `o` above\n",
        "  o2 = f4\n",
        "  o2 = ( tf.keras.layers.Conv2D(n_classes , ( 1 , 1 ) , activation='relu' , padding='same'))(o2)\n",
        "\n",
        "  # add the results of the upsampling and pool 4 prediction\n",
        "  o = tf.keras.layers.Add()([o, o2])\n",
        "\n",
        "  # upsample the resulting tensor of the operation you just did\n",
        "  o =  (tf.keras.layers.Conv2DTranspose( n_classes , kernel_size=(4,4) ,  strides=(2,2)))(o)\n",
        "  o = tf.keras.layers.Cropping2D(cropping=(1, 1))(o)\n",
        "\n",
        "  # load the pool 3 prediction and do a 1x1 convolution to reshape it to the same shape of `o` above\n",
        "  o2 =  f3\n",
        "  o2 = tf.keras.layers.Conv2D(n_classes , ( 1 , 1 ) , activation='relu' , padding='same', data_format=IMAGE_ORDERING)(o2)\n",
        "\n",
        "  # add the results of the upsampling and pool 3 prediction\n",
        "  o = tf.keras.layers.Add()([o, o2])\n",
        "\n",
        "  # upsample up to the size of the original image\n",
        "  o = tf.keras.layers.Conv2DTranspose(n_classes , kernel_size=(8,8) ,  strides=(8,8))(o)\n",
        "  o = tf.keras.layers.Cropping2D(((0, 0), (0, 96-84)))(o)\n",
        "\n",
        "  # append a sigmoid activation\n",
        "  o = (tf.keras.layers.Activation('softmax'))(o)\n",
        "  ### END CODE HERE ###\n",
        "\n",
        "  return o"
      ],
      "execution_count": 13,
      "outputs": []
    },
    {
      "cell_type": "code",
      "metadata": {
        "id": "lQHioDlR5K1_",
        "colab": {
          "base_uri": "https://localhost:8080/"
        },
        "outputId": "17ef726f-2677-4421-8038-9244f33f00fe"
      },
      "source": [
        "# TEST CODE\n",
        "\n",
        "test_convs, test_img_input = FCN8()\n",
        "test_fcn8_decoder = fcn8_decoder(test_convs, 11)\n",
        "\n",
        "print(test_fcn8_decoder.shape)\n",
        "\n",
        "del test_convs, test_img_input, test_fcn8_decoder"
      ],
      "execution_count": 14,
      "outputs": [
        {
          "output_type": "stream",
          "text": [
            "(None, 64, 84, 11)\n"
          ],
          "name": "stdout"
        }
      ]
    },
    {
      "cell_type": "markdown",
      "metadata": {
        "id": "C1qTwTX-5fwH"
      },
      "source": [
        "**Expected Output:**\n",
        "\n",
        "```txt\n",
        "(None, 64, 84, 11)\n",
        "```"
      ]
    },
    {
      "cell_type": "markdown",
      "metadata": {
        "id": "cJOhQz86Qk6n"
      },
      "source": [
        "### Define the Complete Model\n",
        "\n",
        "The downsampling and upsampling paths can now be combined as shown below."
      ]
    },
    {
      "cell_type": "code",
      "metadata": {
        "id": "9EJEf484312h",
        "lines_to_next_cell": 2
      },
      "source": [
        "# start the encoder using the default input size 64 x 84\n",
        "convs, img_input = FCN8()\n",
        "\n",
        "# pass the convolutions obtained in the encoder to the decoder\n",
        "dec_op = fcn8_decoder(convs, n_classes)\n",
        "\n",
        "# define the model specifying the input (batch of images) and output (decoder output)\n",
        "model = tf.keras.Model(inputs = img_input, outputs = dec_op)"
      ],
      "execution_count": 15,
      "outputs": []
    },
    {
      "cell_type": "code",
      "metadata": {
        "id": "2GAenp1M4gXx",
        "colab": {
          "base_uri": "https://localhost:8080/"
        },
        "outputId": "ed2e26c6-a706-4aba-db6e-77c68c06aeb1"
      },
      "source": [
        "model.summary()"
      ],
      "execution_count": 16,
      "outputs": [
        {
          "output_type": "stream",
          "text": [
            "Model: \"model_2\"\n",
            "__________________________________________________________________________________________________\n",
            "Layer (type)                    Output Shape         Param #     Connected to                     \n",
            "==================================================================================================\n",
            "input_4 (InputLayer)            [(None, 64, 84, 1)]  0                                            \n",
            "__________________________________________________________________________________________________\n",
            "zero_padding2d_2 (ZeroPadding2D (None, 64, 96, 1)    0           input_4[0][0]                    \n",
            "__________________________________________________________________________________________________\n",
            "conv2d_25 (Conv2D)              (None, 64, 96, 32)   320         zero_padding2d_2[0][0]           \n",
            "__________________________________________________________________________________________________\n",
            "leaky_re_lu_22 (LeakyReLU)      (None, 64, 96, 32)   0           conv2d_25[0][0]                  \n",
            "__________________________________________________________________________________________________\n",
            "conv2d_26 (Conv2D)              (None, 64, 96, 32)   9248        leaky_re_lu_22[0][0]             \n",
            "__________________________________________________________________________________________________\n",
            "leaky_re_lu_23 (LeakyReLU)      (None, 64, 96, 32)   0           conv2d_26[0][0]                  \n",
            "__________________________________________________________________________________________________\n",
            "max_pooling2d_11 (MaxPooling2D) (None, 32, 48, 32)   0           leaky_re_lu_23[0][0]             \n",
            "__________________________________________________________________________________________________\n",
            "batch_normalization_11 (BatchNo (None, 32, 48, 32)   128         max_pooling2d_11[0][0]           \n",
            "__________________________________________________________________________________________________\n",
            "conv2d_27 (Conv2D)              (None, 32, 48, 64)   18496       batch_normalization_11[0][0]     \n",
            "__________________________________________________________________________________________________\n",
            "leaky_re_lu_24 (LeakyReLU)      (None, 32, 48, 64)   0           conv2d_27[0][0]                  \n",
            "__________________________________________________________________________________________________\n",
            "conv2d_28 (Conv2D)              (None, 32, 48, 64)   36928       leaky_re_lu_24[0][0]             \n",
            "__________________________________________________________________________________________________\n",
            "leaky_re_lu_25 (LeakyReLU)      (None, 32, 48, 64)   0           conv2d_28[0][0]                  \n",
            "__________________________________________________________________________________________________\n",
            "max_pooling2d_12 (MaxPooling2D) (None, 16, 24, 64)   0           leaky_re_lu_25[0][0]             \n",
            "__________________________________________________________________________________________________\n",
            "batch_normalization_12 (BatchNo (None, 16, 24, 64)   256         max_pooling2d_12[0][0]           \n",
            "__________________________________________________________________________________________________\n",
            "conv2d_29 (Conv2D)              (None, 16, 24, 128)  73856       batch_normalization_12[0][0]     \n",
            "__________________________________________________________________________________________________\n",
            "leaky_re_lu_26 (LeakyReLU)      (None, 16, 24, 128)  0           conv2d_29[0][0]                  \n",
            "__________________________________________________________________________________________________\n",
            "conv2d_30 (Conv2D)              (None, 16, 24, 128)  147584      leaky_re_lu_26[0][0]             \n",
            "__________________________________________________________________________________________________\n",
            "leaky_re_lu_27 (LeakyReLU)      (None, 16, 24, 128)  0           conv2d_30[0][0]                  \n",
            "__________________________________________________________________________________________________\n",
            "max_pooling2d_13 (MaxPooling2D) (None, 8, 12, 128)   0           leaky_re_lu_27[0][0]             \n",
            "__________________________________________________________________________________________________\n",
            "batch_normalization_13 (BatchNo (None, 8, 12, 128)   512         max_pooling2d_13[0][0]           \n",
            "__________________________________________________________________________________________________\n",
            "conv2d_31 (Conv2D)              (None, 8, 12, 256)   295168      batch_normalization_13[0][0]     \n",
            "__________________________________________________________________________________________________\n",
            "leaky_re_lu_28 (LeakyReLU)      (None, 8, 12, 256)   0           conv2d_31[0][0]                  \n",
            "__________________________________________________________________________________________________\n",
            "conv2d_32 (Conv2D)              (None, 8, 12, 256)   590080      leaky_re_lu_28[0][0]             \n",
            "__________________________________________________________________________________________________\n",
            "leaky_re_lu_29 (LeakyReLU)      (None, 8, 12, 256)   0           conv2d_32[0][0]                  \n",
            "__________________________________________________________________________________________________\n",
            "max_pooling2d_14 (MaxPooling2D) (None, 4, 6, 256)    0           leaky_re_lu_29[0][0]             \n",
            "__________________________________________________________________________________________________\n",
            "batch_normalization_14 (BatchNo (None, 4, 6, 256)    1024        max_pooling2d_14[0][0]           \n",
            "__________________________________________________________________________________________________\n",
            "conv2d_33 (Conv2D)              (None, 4, 6, 256)    590080      batch_normalization_14[0][0]     \n",
            "__________________________________________________________________________________________________\n",
            "leaky_re_lu_30 (LeakyReLU)      (None, 4, 6, 256)    0           conv2d_33[0][0]                  \n",
            "__________________________________________________________________________________________________\n",
            "conv2d_34 (Conv2D)              (None, 4, 6, 256)    590080      leaky_re_lu_30[0][0]             \n",
            "__________________________________________________________________________________________________\n",
            "leaky_re_lu_31 (LeakyReLU)      (None, 4, 6, 256)    0           conv2d_34[0][0]                  \n",
            "__________________________________________________________________________________________________\n",
            "max_pooling2d_15 (MaxPooling2D) (None, 2, 3, 256)    0           leaky_re_lu_31[0][0]             \n",
            "__________________________________________________________________________________________________\n",
            "batch_normalization_15 (BatchNo (None, 2, 3, 256)    1024        max_pooling2d_15[0][0]           \n",
            "__________________________________________________________________________________________________\n",
            "conv6 (Conv2D)                  (None, 2, 3, 512)    6423040     batch_normalization_15[0][0]     \n",
            "__________________________________________________________________________________________________\n",
            "dropout_2 (Dropout)             (None, 2, 3, 512)    0           conv6[0][0]                      \n",
            "__________________________________________________________________________________________________\n",
            "conv7 (Conv2D)                  (None, 2, 3, 512)    262656      dropout_2[0][0]                  \n",
            "__________________________________________________________________________________________________\n",
            "dropout_3 (Dropout)             (None, 2, 3, 512)    0           conv7[0][0]                      \n",
            "__________________________________________________________________________________________________\n",
            "conv2d_35 (Conv2D)              (None, 2, 3, 11)     5643        dropout_3[0][0]                  \n",
            "__________________________________________________________________________________________________\n",
            "conv2d_transpose_3 (Conv2DTrans (None, 6, 8, 11)     1947        conv2d_35[0][0]                  \n",
            "__________________________________________________________________________________________________\n",
            "cropping2d_3 (Cropping2D)       (None, 4, 6, 11)     0           conv2d_transpose_3[0][0]         \n",
            "__________________________________________________________________________________________________\n",
            "conv2d_36 (Conv2D)              (None, 4, 6, 11)     2827        batch_normalization_14[0][0]     \n",
            "__________________________________________________________________________________________________\n",
            "add_2 (Add)                     (None, 4, 6, 11)     0           cropping2d_3[0][0]               \n",
            "                                                                 conv2d_36[0][0]                  \n",
            "__________________________________________________________________________________________________\n",
            "conv2d_transpose_4 (Conv2DTrans (None, 10, 14, 11)   1947        add_2[0][0]                      \n",
            "__________________________________________________________________________________________________\n",
            "cropping2d_4 (Cropping2D)       (None, 8, 12, 11)    0           conv2d_transpose_4[0][0]         \n",
            "__________________________________________________________________________________________________\n",
            "conv2d_37 (Conv2D)              (None, 8, 12, 11)    1419        batch_normalization_13[0][0]     \n",
            "__________________________________________________________________________________________________\n",
            "add_3 (Add)                     (None, 8, 12, 11)    0           cropping2d_4[0][0]               \n",
            "                                                                 conv2d_37[0][0]                  \n",
            "__________________________________________________________________________________________________\n",
            "conv2d_transpose_5 (Conv2DTrans (None, 64, 96, 11)   7755        add_3[0][0]                      \n",
            "__________________________________________________________________________________________________\n",
            "cropping2d_5 (Cropping2D)       (None, 64, 84, 11)   0           conv2d_transpose_5[0][0]         \n",
            "__________________________________________________________________________________________________\n",
            "activation_1 (Activation)       (None, 64, 84, 11)   0           cropping2d_5[0][0]               \n",
            "==================================================================================================\n",
            "Total params: 9,062,018\n",
            "Trainable params: 9,060,546\n",
            "Non-trainable params: 1,472\n",
            "__________________________________________________________________________________________________\n"
          ],
          "name": "stdout"
        }
      ]
    },
    {
      "cell_type": "markdown",
      "metadata": {
        "id": "wAAXygZtbZmu"
      },
      "source": [
        "## Compile the Model"
      ]
    },
    {
      "cell_type": "markdown",
      "metadata": {
        "id": "sC-9m1R_5tjV"
      },
      "source": [
        "<a name='exercise-4'></a>\n",
        "\n",
        "### **Exercise 4**\n",
        "\n",
        "Compile the model using an appropriate loss, optimizer, and metric."
      ]
    },
    {
      "cell_type": "code",
      "metadata": {
        "id": "ZpWpp8h4g_rE",
        "colab": {
          "base_uri": "https://localhost:8080/"
        },
        "outputId": "3be11be7-c4fc-451b-acef-70501d87a951"
      },
      "source": [
        "### START CODE HERE ###\n",
        "model.compile(loss='categorical_crossentropy', optimizer=tf.keras.optimizers.SGD(lr=1E-2, momentum=0.9, nesterov=True), \n",
        "              metrics=['accuracy'])\n",
        "### END CODE HERE ###"
      ],
      "execution_count": 17,
      "outputs": [
        {
          "output_type": "stream",
          "text": [
            "/usr/local/lib/python3.7/dist-packages/tensorflow/python/keras/optimizer_v2/optimizer_v2.py:375: UserWarning: The `lr` argument is deprecated, use `learning_rate` instead.\n",
            "  \"The `lr` argument is deprecated, use `learning_rate` instead.\")\n"
          ],
          "name": "stderr"
        }
      ]
    },
    {
      "cell_type": "markdown",
      "metadata": {
        "id": "510v0aVDXv1f"
      },
      "source": [
        "## Model Training"
      ]
    },
    {
      "cell_type": "markdown",
      "metadata": {
        "id": "1udK8qps6PcG"
      },
      "source": [
        "<a name='exercise-5'></a>\n",
        "\n",
        "### **Exercise 5**\n",
        "\n",
        "You can now train the model. Set the number of epochs and observe the metrics returned at each iteration. You can also terminate the cell execution if you think your model is performing well already."
      ]
    },
    {
      "cell_type": "code",
      "metadata": {
        "id": "8HoZwpGWhMB-",
        "colab": {
          "base_uri": "https://localhost:8080/"
        },
        "outputId": "f928f701-bf8a-4c19-90f1-06254d0b1124"
      },
      "source": [
        "# OTHER THAN SETTING THE EPOCHS NUMBER, DO NOT CHANGE ANY OTHER CODE\n",
        "\n",
        "### START CODE HERE ###\n",
        "EPOCHS = 250\n",
        "### END CODE HERE ###\n",
        "\n",
        "steps_per_epoch = 4000//BATCH_SIZE\n",
        "validation_steps = 800//BATCH_SIZE\n",
        "test_steps = 200//BATCH_SIZE\n",
        "\n",
        "\n",
        "history = model.fit(training_dataset,\n",
        "                    steps_per_epoch=steps_per_epoch, validation_data=validation_dataset, validation_steps=validation_steps, epochs=EPOCHS)"
      ],
      "execution_count": 18,
      "outputs": [
        {
          "output_type": "stream",
          "text": [
            "Epoch 1/250\n",
            "125/125 [==============================] - 38s 47ms/step - loss: 0.7044 - accuracy: 0.9079 - val_loss: 0.3497 - val_accuracy: 0.9431\n",
            "Epoch 2/250\n",
            "125/125 [==============================] - 6s 44ms/step - loss: 0.2574 - accuracy: 0.9425 - val_loss: 0.3140 - val_accuracy: 0.9431\n",
            "Epoch 3/250\n",
            "125/125 [==============================] - 5s 44ms/step - loss: 0.2415 - accuracy: 0.9425 - val_loss: 0.2781 - val_accuracy: 0.9431\n",
            "Epoch 4/250\n",
            "125/125 [==============================] - 6s 44ms/step - loss: 0.2347 - accuracy: 0.9425 - val_loss: 0.2439 - val_accuracy: 0.9431\n",
            "Epoch 5/250\n",
            "125/125 [==============================] - 6s 45ms/step - loss: 0.2301 - accuracy: 0.9425 - val_loss: 0.2288 - val_accuracy: 0.9431\n",
            "Epoch 6/250\n",
            "125/125 [==============================] - 6s 45ms/step - loss: 0.2259 - accuracy: 0.9425 - val_loss: 0.2221 - val_accuracy: 0.9431\n",
            "Epoch 7/250\n",
            "125/125 [==============================] - 6s 46ms/step - loss: 0.2219 - accuracy: 0.9425 - val_loss: 0.2178 - val_accuracy: 0.9431\n",
            "Epoch 8/250\n",
            "125/125 [==============================] - 6s 45ms/step - loss: 0.2182 - accuracy: 0.9425 - val_loss: 0.2143 - val_accuracy: 0.9431\n",
            "Epoch 9/250\n",
            "125/125 [==============================] - 6s 46ms/step - loss: 0.2148 - accuracy: 0.9425 - val_loss: 0.2111 - val_accuracy: 0.9431\n",
            "Epoch 10/250\n",
            "125/125 [==============================] - 6s 47ms/step - loss: 0.2116 - accuracy: 0.9425 - val_loss: 0.2080 - val_accuracy: 0.9431\n",
            "Epoch 11/250\n",
            "125/125 [==============================] - 6s 45ms/step - loss: 0.2084 - accuracy: 0.9425 - val_loss: 0.2049 - val_accuracy: 0.9431\n",
            "Epoch 12/250\n",
            "125/125 [==============================] - 6s 45ms/step - loss: 0.2054 - accuracy: 0.9425 - val_loss: 0.2017 - val_accuracy: 0.9431\n",
            "Epoch 13/250\n",
            "125/125 [==============================] - 6s 45ms/step - loss: 0.2024 - accuracy: 0.9425 - val_loss: 0.1989 - val_accuracy: 0.9431\n",
            "Epoch 14/250\n",
            "125/125 [==============================] - 6s 45ms/step - loss: 0.1996 - accuracy: 0.9426 - val_loss: 0.1961 - val_accuracy: 0.9431\n",
            "Epoch 15/250\n",
            "125/125 [==============================] - 6s 45ms/step - loss: 0.1971 - accuracy: 0.9426 - val_loss: 0.1938 - val_accuracy: 0.9432\n",
            "Epoch 16/250\n",
            "125/125 [==============================] - 6s 46ms/step - loss: 0.1949 - accuracy: 0.9427 - val_loss: 0.1917 - val_accuracy: 0.9432\n",
            "Epoch 17/250\n",
            "125/125 [==============================] - 6s 45ms/step - loss: 0.1930 - accuracy: 0.9427 - val_loss: 0.1901 - val_accuracy: 0.9433\n",
            "Epoch 18/250\n",
            "125/125 [==============================] - 6s 44ms/step - loss: 0.1913 - accuracy: 0.9428 - val_loss: 0.1884 - val_accuracy: 0.9434\n",
            "Epoch 19/250\n",
            "125/125 [==============================] - 6s 46ms/step - loss: 0.1898 - accuracy: 0.9429 - val_loss: 0.1870 - val_accuracy: 0.9435\n",
            "Epoch 20/250\n",
            "125/125 [==============================] - 6s 46ms/step - loss: 0.1884 - accuracy: 0.9430 - val_loss: 0.1856 - val_accuracy: 0.9436\n",
            "Epoch 21/250\n",
            "125/125 [==============================] - 6s 46ms/step - loss: 0.1871 - accuracy: 0.9431 - val_loss: 0.1845 - val_accuracy: 0.9437\n",
            "Epoch 22/250\n",
            "125/125 [==============================] - 6s 46ms/step - loss: 0.1859 - accuracy: 0.9433 - val_loss: 0.1835 - val_accuracy: 0.9439\n",
            "Epoch 23/250\n",
            "125/125 [==============================] - 6s 46ms/step - loss: 0.1848 - accuracy: 0.9434 - val_loss: 0.1823 - val_accuracy: 0.9440\n",
            "Epoch 24/250\n",
            "125/125 [==============================] - 6s 46ms/step - loss: 0.1838 - accuracy: 0.9436 - val_loss: 0.1813 - val_accuracy: 0.9441\n",
            "Epoch 25/250\n",
            "125/125 [==============================] - 6s 46ms/step - loss: 0.1827 - accuracy: 0.9437 - val_loss: 0.1804 - val_accuracy: 0.9443\n",
            "Epoch 26/250\n",
            "125/125 [==============================] - 6s 46ms/step - loss: 0.1818 - accuracy: 0.9439 - val_loss: 0.1794 - val_accuracy: 0.9444\n",
            "Epoch 27/250\n",
            "125/125 [==============================] - 6s 46ms/step - loss: 0.1808 - accuracy: 0.9440 - val_loss: 0.1787 - val_accuracy: 0.9446\n",
            "Epoch 28/250\n",
            "125/125 [==============================] - 6s 45ms/step - loss: 0.1799 - accuracy: 0.9442 - val_loss: 0.1777 - val_accuracy: 0.9447\n",
            "Epoch 29/250\n",
            "125/125 [==============================] - 6s 45ms/step - loss: 0.1790 - accuracy: 0.9443 - val_loss: 0.1769 - val_accuracy: 0.9449\n",
            "Epoch 30/250\n",
            "125/125 [==============================] - 6s 46ms/step - loss: 0.1780 - accuracy: 0.9445 - val_loss: 0.1759 - val_accuracy: 0.9450\n",
            "Epoch 31/250\n",
            "125/125 [==============================] - 6s 46ms/step - loss: 0.1771 - accuracy: 0.9447 - val_loss: 0.1750 - val_accuracy: 0.9452\n",
            "Epoch 32/250\n",
            "125/125 [==============================] - 6s 46ms/step - loss: 0.1761 - accuracy: 0.9449 - val_loss: 0.1741 - val_accuracy: 0.9454\n",
            "Epoch 33/250\n",
            "125/125 [==============================] - 6s 46ms/step - loss: 0.1751 - accuracy: 0.9451 - val_loss: 0.1730 - val_accuracy: 0.9456\n",
            "Epoch 34/250\n",
            "125/125 [==============================] - 6s 46ms/step - loss: 0.1741 - accuracy: 0.9453 - val_loss: 0.1720 - val_accuracy: 0.9458\n",
            "Epoch 35/250\n",
            "125/125 [==============================] - 6s 46ms/step - loss: 0.1729 - accuracy: 0.9456 - val_loss: 0.1712 - val_accuracy: 0.9462\n",
            "Epoch 36/250\n",
            "125/125 [==============================] - 6s 46ms/step - loss: 0.1717 - accuracy: 0.9459 - val_loss: 0.1698 - val_accuracy: 0.9464\n",
            "Epoch 37/250\n",
            "125/125 [==============================] - 6s 46ms/step - loss: 0.1704 - accuracy: 0.9461 - val_loss: 0.1684 - val_accuracy: 0.9466\n",
            "Epoch 38/250\n",
            "125/125 [==============================] - 6s 45ms/step - loss: 0.1690 - accuracy: 0.9465 - val_loss: 0.1674 - val_accuracy: 0.9470\n",
            "Epoch 39/250\n",
            "125/125 [==============================] - 6s 45ms/step - loss: 0.1675 - accuracy: 0.9468 - val_loss: 0.1657 - val_accuracy: 0.9474\n",
            "Epoch 40/250\n",
            "125/125 [==============================] - 6s 45ms/step - loss: 0.1658 - accuracy: 0.9472 - val_loss: 0.1641 - val_accuracy: 0.9477\n",
            "Epoch 41/250\n",
            "125/125 [==============================] - 6s 46ms/step - loss: 0.1640 - accuracy: 0.9475 - val_loss: 0.1626 - val_accuracy: 0.9481\n",
            "Epoch 42/250\n",
            "125/125 [==============================] - 6s 46ms/step - loss: 0.1621 - accuracy: 0.9479 - val_loss: 0.1605 - val_accuracy: 0.9485\n",
            "Epoch 43/250\n",
            "125/125 [==============================] - 6s 46ms/step - loss: 0.1600 - accuracy: 0.9484 - val_loss: 0.1583 - val_accuracy: 0.9488\n",
            "Epoch 44/250\n",
            "125/125 [==============================] - 6s 46ms/step - loss: 0.1576 - accuracy: 0.9488 - val_loss: 0.1563 - val_accuracy: 0.9493\n",
            "Epoch 45/250\n",
            "125/125 [==============================] - 6s 46ms/step - loss: 0.1551 - accuracy: 0.9493 - val_loss: 0.1539 - val_accuracy: 0.9498\n",
            "Epoch 46/250\n",
            "125/125 [==============================] - 6s 46ms/step - loss: 0.1523 - accuracy: 0.9498 - val_loss: 0.1509 - val_accuracy: 0.9504\n",
            "Epoch 47/250\n",
            "125/125 [==============================] - 6s 46ms/step - loss: 0.1493 - accuracy: 0.9504 - val_loss: 0.1479 - val_accuracy: 0.9512\n",
            "Epoch 48/250\n",
            "125/125 [==============================] - 6s 46ms/step - loss: 0.1464 - accuracy: 0.9510 - val_loss: 0.1450 - val_accuracy: 0.9515\n",
            "Epoch 49/250\n",
            "125/125 [==============================] - 6s 45ms/step - loss: 0.1434 - accuracy: 0.9517 - val_loss: 0.1468 - val_accuracy: 0.9513\n",
            "Epoch 50/250\n",
            "125/125 [==============================] - 6s 45ms/step - loss: 0.1406 - accuracy: 0.9524 - val_loss: 0.1389 - val_accuracy: 0.9532\n",
            "Epoch 51/250\n",
            "125/125 [==============================] - 6s 46ms/step - loss: 0.1379 - accuracy: 0.9531 - val_loss: 0.1373 - val_accuracy: 0.9534\n",
            "Epoch 52/250\n",
            "125/125 [==============================] - 6s 45ms/step - loss: 0.1355 - accuracy: 0.9539 - val_loss: 0.1348 - val_accuracy: 0.9540\n",
            "Epoch 53/250\n",
            "125/125 [==============================] - 6s 45ms/step - loss: 0.1329 - accuracy: 0.9548 - val_loss: 0.1318 - val_accuracy: 0.9553\n",
            "Epoch 54/250\n",
            "125/125 [==============================] - 6s 46ms/step - loss: 0.1303 - accuracy: 0.9556 - val_loss: 0.1293 - val_accuracy: 0.9564\n",
            "Epoch 55/250\n",
            "125/125 [==============================] - 6s 46ms/step - loss: 0.1279 - accuracy: 0.9566 - val_loss: 0.1268 - val_accuracy: 0.9571\n",
            "Epoch 56/250\n",
            "125/125 [==============================] - 6s 46ms/step - loss: 0.1254 - accuracy: 0.9575 - val_loss: 0.1392 - val_accuracy: 0.9563\n",
            "Epoch 57/250\n",
            "125/125 [==============================] - 6s 46ms/step - loss: 0.1230 - accuracy: 0.9583 - val_loss: 0.1229 - val_accuracy: 0.9580\n",
            "Epoch 58/250\n",
            "125/125 [==============================] - 6s 45ms/step - loss: 0.1203 - accuracy: 0.9593 - val_loss: 0.1200 - val_accuracy: 0.9593\n",
            "Epoch 59/250\n",
            "125/125 [==============================] - 6s 46ms/step - loss: 0.1176 - accuracy: 0.9603 - val_loss: 0.1171 - val_accuracy: 0.9603\n",
            "Epoch 60/250\n",
            "125/125 [==============================] - 6s 46ms/step - loss: 0.1151 - accuracy: 0.9612 - val_loss: 0.1157 - val_accuracy: 0.9604\n",
            "Epoch 61/250\n",
            "125/125 [==============================] - 6s 46ms/step - loss: 0.1123 - accuracy: 0.9622 - val_loss: 0.1115 - val_accuracy: 0.9622\n",
            "Epoch 62/250\n",
            "125/125 [==============================] - 6s 46ms/step - loss: 0.1095 - accuracy: 0.9631 - val_loss: 0.1112 - val_accuracy: 0.9616\n",
            "Epoch 63/250\n",
            "125/125 [==============================] - 6s 47ms/step - loss: 0.1068 - accuracy: 0.9640 - val_loss: 0.1075 - val_accuracy: 0.9635\n",
            "Epoch 64/250\n",
            "125/125 [==============================] - 6s 45ms/step - loss: 0.1041 - accuracy: 0.9649 - val_loss: 0.1036 - val_accuracy: 0.9649\n",
            "Epoch 65/250\n",
            "125/125 [==============================] - 6s 46ms/step - loss: 0.1011 - accuracy: 0.9659 - val_loss: 0.1016 - val_accuracy: 0.9654\n",
            "Epoch 66/250\n",
            "125/125 [==============================] - 6s 45ms/step - loss: 0.0985 - accuracy: 0.9667 - val_loss: 0.1029 - val_accuracy: 0.9657\n",
            "Epoch 67/250\n",
            "125/125 [==============================] - 6s 45ms/step - loss: 0.0959 - accuracy: 0.9675 - val_loss: 0.0963 - val_accuracy: 0.9676\n",
            "Epoch 68/250\n",
            "125/125 [==============================] - 6s 45ms/step - loss: 0.0937 - accuracy: 0.9681 - val_loss: 0.0937 - val_accuracy: 0.9677\n",
            "Epoch 69/250\n",
            "125/125 [==============================] - 6s 46ms/step - loss: 0.0912 - accuracy: 0.9689 - val_loss: 0.0989 - val_accuracy: 0.9664\n",
            "Epoch 70/250\n",
            "125/125 [==============================] - 6s 45ms/step - loss: 0.0889 - accuracy: 0.9696 - val_loss: 0.0908 - val_accuracy: 0.9696\n",
            "Epoch 71/250\n",
            "125/125 [==============================] - 6s 46ms/step - loss: 0.0866 - accuracy: 0.9704 - val_loss: 0.0893 - val_accuracy: 0.9704\n",
            "Epoch 72/250\n",
            "125/125 [==============================] - 6s 46ms/step - loss: 0.0845 - accuracy: 0.9711 - val_loss: 0.0863 - val_accuracy: 0.9700\n",
            "Epoch 73/250\n",
            "125/125 [==============================] - 6s 46ms/step - loss: 0.0823 - accuracy: 0.9718 - val_loss: 0.0845 - val_accuracy: 0.9710\n",
            "Epoch 74/250\n",
            "125/125 [==============================] - 6s 46ms/step - loss: 0.0806 - accuracy: 0.9724 - val_loss: 0.0832 - val_accuracy: 0.9722\n",
            "Epoch 75/250\n",
            "125/125 [==============================] - 6s 46ms/step - loss: 0.0787 - accuracy: 0.9730 - val_loss: 0.0917 - val_accuracy: 0.9685\n",
            "Epoch 76/250\n",
            "125/125 [==============================] - 6s 45ms/step - loss: 0.0772 - accuracy: 0.9735 - val_loss: 0.0819 - val_accuracy: 0.9732\n",
            "Epoch 77/250\n",
            "125/125 [==============================] - 6s 45ms/step - loss: 0.0752 - accuracy: 0.9742 - val_loss: 0.0814 - val_accuracy: 0.9711\n",
            "Epoch 78/250\n",
            "125/125 [==============================] - 6s 46ms/step - loss: 0.0736 - accuracy: 0.9747 - val_loss: 0.0796 - val_accuracy: 0.9735\n",
            "Epoch 79/250\n",
            "125/125 [==============================] - 6s 45ms/step - loss: 0.0723 - accuracy: 0.9752 - val_loss: 0.0772 - val_accuracy: 0.9731\n",
            "Epoch 80/250\n",
            "125/125 [==============================] - 6s 46ms/step - loss: 0.0703 - accuracy: 0.9759 - val_loss: 0.0739 - val_accuracy: 0.9744\n",
            "Epoch 81/250\n",
            "125/125 [==============================] - 6s 46ms/step - loss: 0.0692 - accuracy: 0.9762 - val_loss: 0.0767 - val_accuracy: 0.9750\n",
            "Epoch 82/250\n",
            "125/125 [==============================] - 6s 46ms/step - loss: 0.0679 - accuracy: 0.9766 - val_loss: 0.0789 - val_accuracy: 0.9729\n",
            "Epoch 83/250\n",
            "125/125 [==============================] - 6s 46ms/step - loss: 0.0666 - accuracy: 0.9770 - val_loss: 0.0764 - val_accuracy: 0.9741\n",
            "Epoch 84/250\n",
            "125/125 [==============================] - 6s 46ms/step - loss: 0.0654 - accuracy: 0.9773 - val_loss: 0.0750 - val_accuracy: 0.9739\n",
            "Epoch 85/250\n",
            "125/125 [==============================] - 6s 47ms/step - loss: 0.0640 - accuracy: 0.9778 - val_loss: 0.0766 - val_accuracy: 0.9735\n",
            "Epoch 86/250\n",
            "125/125 [==============================] - 6s 46ms/step - loss: 0.0629 - accuracy: 0.9781 - val_loss: 0.0676 - val_accuracy: 0.9765\n",
            "Epoch 87/250\n",
            "125/125 [==============================] - 6s 45ms/step - loss: 0.0617 - accuracy: 0.9784 - val_loss: 0.0700 - val_accuracy: 0.9756\n",
            "Epoch 88/250\n",
            "125/125 [==============================] - 6s 46ms/step - loss: 0.0607 - accuracy: 0.9787 - val_loss: 0.0690 - val_accuracy: 0.9767\n",
            "Epoch 89/250\n",
            "125/125 [==============================] - 6s 45ms/step - loss: 0.0598 - accuracy: 0.9789 - val_loss: 0.0693 - val_accuracy: 0.9755\n",
            "Epoch 90/250\n",
            "125/125 [==============================] - 6s 46ms/step - loss: 0.0589 - accuracy: 0.9792 - val_loss: 0.0647 - val_accuracy: 0.9770\n",
            "Epoch 91/250\n",
            "125/125 [==============================] - 6s 46ms/step - loss: 0.0579 - accuracy: 0.9795 - val_loss: 0.0721 - val_accuracy: 0.9744\n",
            "Epoch 92/250\n",
            "125/125 [==============================] - 6s 45ms/step - loss: 0.0570 - accuracy: 0.9797 - val_loss: 0.0715 - val_accuracy: 0.9746\n",
            "Epoch 93/250\n",
            "125/125 [==============================] - 6s 46ms/step - loss: 0.0562 - accuracy: 0.9799 - val_loss: 0.0645 - val_accuracy: 0.9778\n",
            "Epoch 94/250\n",
            "125/125 [==============================] - 6s 46ms/step - loss: 0.0550 - accuracy: 0.9803 - val_loss: 0.0641 - val_accuracy: 0.9777\n",
            "Epoch 95/250\n",
            "125/125 [==============================] - 6s 46ms/step - loss: 0.0543 - accuracy: 0.9805 - val_loss: 0.0621 - val_accuracy: 0.9781\n",
            "Epoch 96/250\n",
            "125/125 [==============================] - 6s 46ms/step - loss: 0.0533 - accuracy: 0.9808 - val_loss: 0.0658 - val_accuracy: 0.9773\n",
            "Epoch 97/250\n",
            "125/125 [==============================] - 6s 46ms/step - loss: 0.0528 - accuracy: 0.9809 - val_loss: 0.0602 - val_accuracy: 0.9785\n",
            "Epoch 98/250\n",
            "125/125 [==============================] - 6s 45ms/step - loss: 0.0521 - accuracy: 0.9811 - val_loss: 0.0614 - val_accuracy: 0.9787\n",
            "Epoch 99/250\n",
            "125/125 [==============================] - 6s 46ms/step - loss: 0.0518 - accuracy: 0.9811 - val_loss: 0.0602 - val_accuracy: 0.9784\n",
            "Epoch 100/250\n",
            "125/125 [==============================] - 6s 47ms/step - loss: 0.0507 - accuracy: 0.9815 - val_loss: 0.0593 - val_accuracy: 0.9791\n",
            "Epoch 101/250\n",
            "125/125 [==============================] - 6s 46ms/step - loss: 0.0502 - accuracy: 0.9817 - val_loss: 0.0602 - val_accuracy: 0.9788\n",
            "Epoch 102/250\n",
            "125/125 [==============================] - 6s 45ms/step - loss: 0.0494 - accuracy: 0.9819 - val_loss: 0.0599 - val_accuracy: 0.9785\n",
            "Epoch 103/250\n",
            "125/125 [==============================] - 6s 45ms/step - loss: 0.0487 - accuracy: 0.9821 - val_loss: 0.0607 - val_accuracy: 0.9786\n",
            "Epoch 104/250\n",
            "125/125 [==============================] - 6s 46ms/step - loss: 0.0484 - accuracy: 0.9822 - val_loss: 0.0609 - val_accuracy: 0.9785\n",
            "Epoch 105/250\n",
            "125/125 [==============================] - 6s 46ms/step - loss: 0.0477 - accuracy: 0.9825 - val_loss: 0.0575 - val_accuracy: 0.9791\n",
            "Epoch 106/250\n",
            "125/125 [==============================] - 6s 47ms/step - loss: 0.0470 - accuracy: 0.9826 - val_loss: 0.0563 - val_accuracy: 0.9797\n",
            "Epoch 107/250\n",
            "125/125 [==============================] - 6s 47ms/step - loss: 0.0466 - accuracy: 0.9828 - val_loss: 0.0559 - val_accuracy: 0.9800\n",
            "Epoch 108/250\n",
            "125/125 [==============================] - 6s 47ms/step - loss: 0.0460 - accuracy: 0.9829 - val_loss: 0.0608 - val_accuracy: 0.9783\n",
            "Epoch 109/250\n",
            "125/125 [==============================] - 6s 46ms/step - loss: 0.0456 - accuracy: 0.9831 - val_loss: 0.0552 - val_accuracy: 0.9800\n",
            "Epoch 110/250\n",
            "125/125 [==============================] - 6s 46ms/step - loss: 0.0451 - accuracy: 0.9832 - val_loss: 0.0565 - val_accuracy: 0.9799\n",
            "Epoch 111/250\n",
            "125/125 [==============================] - 6s 46ms/step - loss: 0.0445 - accuracy: 0.9834 - val_loss: 0.0576 - val_accuracy: 0.9794\n",
            "Epoch 112/250\n",
            "125/125 [==============================] - 6s 47ms/step - loss: 0.0440 - accuracy: 0.9836 - val_loss: 0.0589 - val_accuracy: 0.9781\n",
            "Epoch 113/250\n",
            "125/125 [==============================] - 6s 46ms/step - loss: 0.0436 - accuracy: 0.9837 - val_loss: 0.0594 - val_accuracy: 0.9789\n",
            "Epoch 114/250\n",
            "125/125 [==============================] - 6s 46ms/step - loss: 0.0430 - accuracy: 0.9839 - val_loss: 0.0537 - val_accuracy: 0.9804\n",
            "Epoch 115/250\n",
            "125/125 [==============================] - 6s 46ms/step - loss: 0.0426 - accuracy: 0.9840 - val_loss: 0.0583 - val_accuracy: 0.9788\n",
            "Epoch 116/250\n",
            "125/125 [==============================] - 6s 46ms/step - loss: 0.0422 - accuracy: 0.9842 - val_loss: 0.0554 - val_accuracy: 0.9803\n",
            "Epoch 117/250\n",
            "125/125 [==============================] - 6s 46ms/step - loss: 0.0420 - accuracy: 0.9842 - val_loss: 0.0534 - val_accuracy: 0.9810\n",
            "Epoch 118/250\n",
            "125/125 [==============================] - 6s 46ms/step - loss: 0.0413 - accuracy: 0.9844 - val_loss: 0.0545 - val_accuracy: 0.9798\n",
            "Epoch 119/250\n",
            "125/125 [==============================] - 6s 46ms/step - loss: 0.0410 - accuracy: 0.9845 - val_loss: 0.0530 - val_accuracy: 0.9805\n",
            "Epoch 120/250\n",
            "125/125 [==============================] - 6s 46ms/step - loss: 0.0406 - accuracy: 0.9846 - val_loss: 0.0516 - val_accuracy: 0.9813\n",
            "Epoch 121/250\n",
            "125/125 [==============================] - 6s 45ms/step - loss: 0.0401 - accuracy: 0.9848 - val_loss: 0.0529 - val_accuracy: 0.9808\n",
            "Epoch 122/250\n",
            "125/125 [==============================] - 6s 45ms/step - loss: 0.0398 - accuracy: 0.9849 - val_loss: 0.0537 - val_accuracy: 0.9809\n",
            "Epoch 123/250\n",
            "125/125 [==============================] - 6s 47ms/step - loss: 0.0394 - accuracy: 0.9851 - val_loss: 0.0520 - val_accuracy: 0.9809\n",
            "Epoch 124/250\n",
            "125/125 [==============================] - 6s 46ms/step - loss: 0.0392 - accuracy: 0.9851 - val_loss: 0.0522 - val_accuracy: 0.9808\n",
            "Epoch 125/250\n",
            "125/125 [==============================] - 6s 48ms/step - loss: 0.0389 - accuracy: 0.9852 - val_loss: 0.0515 - val_accuracy: 0.9814\n",
            "Epoch 126/250\n",
            "125/125 [==============================] - 6s 47ms/step - loss: 0.0386 - accuracy: 0.9853 - val_loss: 0.0518 - val_accuracy: 0.9816\n",
            "Epoch 127/250\n",
            "125/125 [==============================] - 6s 46ms/step - loss: 0.0382 - accuracy: 0.9854 - val_loss: 0.0521 - val_accuracy: 0.9812\n",
            "Epoch 128/250\n",
            "125/125 [==============================] - 6s 45ms/step - loss: 0.0380 - accuracy: 0.9855 - val_loss: 0.0513 - val_accuracy: 0.9818\n",
            "Epoch 129/250\n",
            "125/125 [==============================] - 6s 45ms/step - loss: 0.0375 - accuracy: 0.9857 - val_loss: 0.0511 - val_accuracy: 0.9818\n",
            "Epoch 130/250\n",
            "125/125 [==============================] - 6s 45ms/step - loss: 0.0373 - accuracy: 0.9857 - val_loss: 0.0496 - val_accuracy: 0.9822\n",
            "Epoch 131/250\n",
            "125/125 [==============================] - 6s 46ms/step - loss: 0.0370 - accuracy: 0.9858 - val_loss: 0.0490 - val_accuracy: 0.9823\n",
            "Epoch 132/250\n",
            "125/125 [==============================] - 6s 46ms/step - loss: 0.0368 - accuracy: 0.9859 - val_loss: 0.0495 - val_accuracy: 0.9820\n",
            "Epoch 133/250\n",
            "125/125 [==============================] - 6s 46ms/step - loss: 0.0366 - accuracy: 0.9860 - val_loss: 0.0498 - val_accuracy: 0.9821\n",
            "Epoch 134/250\n",
            "125/125 [==============================] - 6s 46ms/step - loss: 0.0362 - accuracy: 0.9861 - val_loss: 0.0492 - val_accuracy: 0.9822\n",
            "Epoch 135/250\n",
            "125/125 [==============================] - 6s 46ms/step - loss: 0.0360 - accuracy: 0.9862 - val_loss: 0.0493 - val_accuracy: 0.9822\n",
            "Epoch 136/250\n",
            "125/125 [==============================] - 6s 47ms/step - loss: 0.0358 - accuracy: 0.9862 - val_loss: 0.0502 - val_accuracy: 0.9820\n",
            "Epoch 137/250\n",
            "125/125 [==============================] - 6s 46ms/step - loss: 0.0356 - accuracy: 0.9863 - val_loss: 0.0574 - val_accuracy: 0.9801\n",
            "Epoch 138/250\n",
            "125/125 [==============================] - 6s 46ms/step - loss: 0.0352 - accuracy: 0.9864 - val_loss: 0.0532 - val_accuracy: 0.9806\n",
            "Epoch 139/250\n",
            "125/125 [==============================] - 6s 46ms/step - loss: 0.0351 - accuracy: 0.9865 - val_loss: 0.0488 - val_accuracy: 0.9825\n",
            "Epoch 140/250\n",
            "125/125 [==============================] - 6s 46ms/step - loss: 0.0349 - accuracy: 0.9866 - val_loss: 0.0483 - val_accuracy: 0.9826\n",
            "Epoch 141/250\n",
            "125/125 [==============================] - 6s 46ms/step - loss: 0.0346 - accuracy: 0.9866 - val_loss: 0.0505 - val_accuracy: 0.9820\n",
            "Epoch 142/250\n",
            "125/125 [==============================] - 6s 45ms/step - loss: 0.0344 - accuracy: 0.9867 - val_loss: 0.0500 - val_accuracy: 0.9821\n",
            "Epoch 143/250\n",
            "125/125 [==============================] - 6s 46ms/step - loss: 0.0342 - accuracy: 0.9868 - val_loss: 0.0477 - val_accuracy: 0.9830\n",
            "Epoch 144/250\n",
            "125/125 [==============================] - 6s 45ms/step - loss: 0.0340 - accuracy: 0.9868 - val_loss: 0.0475 - val_accuracy: 0.9830\n",
            "Epoch 145/250\n",
            "125/125 [==============================] - 6s 46ms/step - loss: 0.0338 - accuracy: 0.9869 - val_loss: 0.0520 - val_accuracy: 0.9815\n",
            "Epoch 146/250\n",
            "125/125 [==============================] - 6s 47ms/step - loss: 0.0337 - accuracy: 0.9869 - val_loss: 0.0499 - val_accuracy: 0.9819\n",
            "Epoch 147/250\n",
            "125/125 [==============================] - 6s 46ms/step - loss: 0.0334 - accuracy: 0.9871 - val_loss: 0.0471 - val_accuracy: 0.9829\n",
            "Epoch 148/250\n",
            "125/125 [==============================] - 6s 46ms/step - loss: 0.0333 - accuracy: 0.9871 - val_loss: 0.0475 - val_accuracy: 0.9828\n",
            "Epoch 149/250\n",
            "125/125 [==============================] - 6s 47ms/step - loss: 0.0332 - accuracy: 0.9872 - val_loss: 0.0488 - val_accuracy: 0.9826\n",
            "Epoch 150/250\n",
            "125/125 [==============================] - 6s 46ms/step - loss: 0.0329 - accuracy: 0.9872 - val_loss: 0.0469 - val_accuracy: 0.9832\n",
            "Epoch 151/250\n",
            "125/125 [==============================] - 6s 46ms/step - loss: 0.0327 - accuracy: 0.9873 - val_loss: 0.0482 - val_accuracy: 0.9828\n",
            "Epoch 152/250\n",
            "125/125 [==============================] - 6s 45ms/step - loss: 0.0326 - accuracy: 0.9873 - val_loss: 0.0471 - val_accuracy: 0.9830\n",
            "Epoch 153/250\n",
            "125/125 [==============================] - 6s 45ms/step - loss: 0.0324 - accuracy: 0.9874 - val_loss: 0.0482 - val_accuracy: 0.9827\n",
            "Epoch 154/250\n",
            "125/125 [==============================] - 6s 46ms/step - loss: 0.0323 - accuracy: 0.9875 - val_loss: 0.0460 - val_accuracy: 0.9834\n",
            "Epoch 155/250\n",
            "125/125 [==============================] - 6s 46ms/step - loss: 0.0322 - accuracy: 0.9875 - val_loss: 0.0468 - val_accuracy: 0.9832\n",
            "Epoch 156/250\n",
            "125/125 [==============================] - 6s 46ms/step - loss: 0.0320 - accuracy: 0.9875 - val_loss: 0.0459 - val_accuracy: 0.9835\n",
            "Epoch 157/250\n",
            "125/125 [==============================] - 6s 46ms/step - loss: 0.0318 - accuracy: 0.9876 - val_loss: 0.0473 - val_accuracy: 0.9832\n",
            "Epoch 158/250\n",
            "125/125 [==============================] - 6s 46ms/step - loss: 0.0317 - accuracy: 0.9877 - val_loss: 0.0479 - val_accuracy: 0.9830\n",
            "Epoch 159/250\n",
            "125/125 [==============================] - 6s 47ms/step - loss: 0.0315 - accuracy: 0.9877 - val_loss: 0.0485 - val_accuracy: 0.9828\n",
            "Epoch 160/250\n",
            "125/125 [==============================] - 6s 47ms/step - loss: 0.0314 - accuracy: 0.9877 - val_loss: 0.0457 - val_accuracy: 0.9837\n",
            "Epoch 161/250\n",
            "125/125 [==============================] - 6s 46ms/step - loss: 0.0312 - accuracy: 0.9879 - val_loss: 0.0495 - val_accuracy: 0.9831\n",
            "Epoch 162/250\n",
            "125/125 [==============================] - 6s 46ms/step - loss: 0.0312 - accuracy: 0.9878 - val_loss: 0.0456 - val_accuracy: 0.9836\n",
            "Epoch 163/250\n",
            "125/125 [==============================] - 6s 46ms/step - loss: 0.0309 - accuracy: 0.9879 - val_loss: 0.0456 - val_accuracy: 0.9836\n",
            "Epoch 164/250\n",
            "125/125 [==============================] - 6s 46ms/step - loss: 0.0308 - accuracy: 0.9880 - val_loss: 0.0483 - val_accuracy: 0.9825\n",
            "Epoch 165/250\n",
            "125/125 [==============================] - 6s 46ms/step - loss: 0.0308 - accuracy: 0.9880 - val_loss: 0.0483 - val_accuracy: 0.9825\n",
            "Epoch 166/250\n",
            "125/125 [==============================] - 6s 45ms/step - loss: 0.0307 - accuracy: 0.9880 - val_loss: 0.0453 - val_accuracy: 0.9837\n",
            "Epoch 167/250\n",
            "125/125 [==============================] - 6s 45ms/step - loss: 0.0304 - accuracy: 0.9881 - val_loss: 0.0469 - val_accuracy: 0.9832\n",
            "Epoch 168/250\n",
            "125/125 [==============================] - 6s 46ms/step - loss: 0.0303 - accuracy: 0.9882 - val_loss: 0.0457 - val_accuracy: 0.9836\n",
            "Epoch 169/250\n",
            "125/125 [==============================] - 6s 46ms/step - loss: 0.0302 - accuracy: 0.9882 - val_loss: 0.0457 - val_accuracy: 0.9836\n",
            "Epoch 170/250\n",
            "125/125 [==============================] - 6s 46ms/step - loss: 0.0301 - accuracy: 0.9882 - val_loss: 0.0450 - val_accuracy: 0.9838\n",
            "Epoch 171/250\n",
            "125/125 [==============================] - 6s 46ms/step - loss: 0.0300 - accuracy: 0.9882 - val_loss: 0.0468 - val_accuracy: 0.9833\n",
            "Epoch 172/250\n",
            "125/125 [==============================] - 6s 46ms/step - loss: 0.0299 - accuracy: 0.9883 - val_loss: 0.0454 - val_accuracy: 0.9837\n",
            "Epoch 173/250\n",
            "125/125 [==============================] - 6s 46ms/step - loss: 0.0298 - accuracy: 0.9883 - val_loss: 0.0458 - val_accuracy: 0.9834\n",
            "Epoch 174/250\n",
            "125/125 [==============================] - 6s 46ms/step - loss: 0.0297 - accuracy: 0.9884 - val_loss: 0.0462 - val_accuracy: 0.9836\n",
            "Epoch 175/250\n",
            "125/125 [==============================] - 6s 46ms/step - loss: 0.0296 - accuracy: 0.9884 - val_loss: 0.0454 - val_accuracy: 0.9837\n",
            "Epoch 176/250\n",
            "125/125 [==============================] - 6s 46ms/step - loss: 0.0294 - accuracy: 0.9885 - val_loss: 0.0455 - val_accuracy: 0.9837\n",
            "Epoch 177/250\n",
            "125/125 [==============================] - 6s 47ms/step - loss: 0.0295 - accuracy: 0.9885 - val_loss: 0.0477 - val_accuracy: 0.9835\n",
            "Epoch 178/250\n",
            "125/125 [==============================] - 6s 46ms/step - loss: 0.0292 - accuracy: 0.9885 - val_loss: 0.0461 - val_accuracy: 0.9835\n",
            "Epoch 179/250\n",
            "125/125 [==============================] - 6s 47ms/step - loss: 0.0292 - accuracy: 0.9885 - val_loss: 0.0454 - val_accuracy: 0.9837\n",
            "Epoch 180/250\n",
            "125/125 [==============================] - 6s 46ms/step - loss: 0.0291 - accuracy: 0.9886 - val_loss: 0.0453 - val_accuracy: 0.9837\n",
            "Epoch 181/250\n",
            "125/125 [==============================] - 6s 45ms/step - loss: 0.0289 - accuracy: 0.9887 - val_loss: 0.0463 - val_accuracy: 0.9838\n",
            "Epoch 182/250\n",
            "125/125 [==============================] - 6s 46ms/step - loss: 0.0289 - accuracy: 0.9887 - val_loss: 0.0457 - val_accuracy: 0.9837\n",
            "Epoch 183/250\n",
            "125/125 [==============================] - 6s 45ms/step - loss: 0.0287 - accuracy: 0.9888 - val_loss: 0.0449 - val_accuracy: 0.9838\n",
            "Epoch 184/250\n",
            "125/125 [==============================] - 6s 45ms/step - loss: 0.0286 - accuracy: 0.9888 - val_loss: 0.0453 - val_accuracy: 0.9840\n",
            "Epoch 185/250\n",
            "125/125 [==============================] - 6s 45ms/step - loss: 0.0285 - accuracy: 0.9888 - val_loss: 0.0442 - val_accuracy: 0.9844\n",
            "Epoch 186/250\n",
            "125/125 [==============================] - 6s 46ms/step - loss: 0.0284 - accuracy: 0.9889 - val_loss: 0.0449 - val_accuracy: 0.9841\n",
            "Epoch 187/250\n",
            "125/125 [==============================] - 6s 46ms/step - loss: 0.0284 - accuracy: 0.9889 - val_loss: 0.0446 - val_accuracy: 0.9840\n",
            "Epoch 188/250\n",
            "125/125 [==============================] - 6s 46ms/step - loss: 0.0282 - accuracy: 0.9889 - val_loss: 0.0441 - val_accuracy: 0.9843\n",
            "Epoch 189/250\n",
            "125/125 [==============================] - 6s 46ms/step - loss: 0.0282 - accuracy: 0.9890 - val_loss: 0.0454 - val_accuracy: 0.9837\n",
            "Epoch 190/250\n",
            "125/125 [==============================] - 6s 46ms/step - loss: 0.0280 - accuracy: 0.9890 - val_loss: 0.0436 - val_accuracy: 0.9844\n",
            "Epoch 191/250\n",
            "125/125 [==============================] - 6s 46ms/step - loss: 0.0280 - accuracy: 0.9890 - val_loss: 0.0441 - val_accuracy: 0.9843\n",
            "Epoch 192/250\n",
            "125/125 [==============================] - 6s 46ms/step - loss: 0.0279 - accuracy: 0.9891 - val_loss: 0.0441 - val_accuracy: 0.9844\n",
            "Epoch 193/250\n",
            "125/125 [==============================] - 6s 46ms/step - loss: 0.0278 - accuracy: 0.9891 - val_loss: 0.0444 - val_accuracy: 0.9842\n",
            "Epoch 194/250\n",
            "125/125 [==============================] - 6s 45ms/step - loss: 0.0277 - accuracy: 0.9891 - val_loss: 0.0444 - val_accuracy: 0.9841\n",
            "Epoch 195/250\n",
            "125/125 [==============================] - 6s 46ms/step - loss: 0.0276 - accuracy: 0.9891 - val_loss: 0.0440 - val_accuracy: 0.9843\n",
            "Epoch 196/250\n",
            "125/125 [==============================] - 6s 45ms/step - loss: 0.0276 - accuracy: 0.9892 - val_loss: 0.0448 - val_accuracy: 0.9842\n",
            "Epoch 197/250\n",
            "125/125 [==============================] - 6s 47ms/step - loss: 0.0275 - accuracy: 0.9892 - val_loss: 0.0456 - val_accuracy: 0.9842\n",
            "Epoch 198/250\n",
            "125/125 [==============================] - 6s 46ms/step - loss: 0.0274 - accuracy: 0.9892 - val_loss: 0.0451 - val_accuracy: 0.9841\n",
            "Epoch 199/250\n",
            "125/125 [==============================] - 6s 47ms/step - loss: 0.0273 - accuracy: 0.9893 - val_loss: 0.0435 - val_accuracy: 0.9846\n",
            "Epoch 200/250\n",
            "125/125 [==============================] - 6s 46ms/step - loss: 0.0272 - accuracy: 0.9893 - val_loss: 0.0431 - val_accuracy: 0.9846\n",
            "Epoch 201/250\n",
            "125/125 [==============================] - 6s 46ms/step - loss: 0.0271 - accuracy: 0.9893 - val_loss: 0.0453 - val_accuracy: 0.9839\n",
            "Epoch 202/250\n",
            "125/125 [==============================] - 6s 46ms/step - loss: 0.0271 - accuracy: 0.9894 - val_loss: 0.0437 - val_accuracy: 0.9846\n",
            "Epoch 203/250\n",
            "125/125 [==============================] - 6s 46ms/step - loss: 0.0270 - accuracy: 0.9894 - val_loss: 0.0438 - val_accuracy: 0.9846\n",
            "Epoch 204/250\n",
            "125/125 [==============================] - 6s 46ms/step - loss: 0.0269 - accuracy: 0.9894 - val_loss: 0.0438 - val_accuracy: 0.9846\n",
            "Epoch 205/250\n",
            "125/125 [==============================] - 6s 46ms/step - loss: 0.0269 - accuracy: 0.9894 - val_loss: 0.0442 - val_accuracy: 0.9841\n",
            "Epoch 206/250\n",
            "125/125 [==============================] - 6s 46ms/step - loss: 0.0267 - accuracy: 0.9895 - val_loss: 0.0457 - val_accuracy: 0.9836\n",
            "Epoch 207/250\n",
            "125/125 [==============================] - 6s 46ms/step - loss: 0.0266 - accuracy: 0.9895 - val_loss: 0.0431 - val_accuracy: 0.9847\n",
            "Epoch 208/250\n",
            "125/125 [==============================] - 6s 46ms/step - loss: 0.0266 - accuracy: 0.9895 - val_loss: 0.0428 - val_accuracy: 0.9847\n",
            "Epoch 209/250\n",
            "125/125 [==============================] - 6s 47ms/step - loss: 0.0265 - accuracy: 0.9896 - val_loss: 0.0429 - val_accuracy: 0.9847\n",
            "Epoch 210/250\n",
            "125/125 [==============================] - 6s 48ms/step - loss: 0.0264 - accuracy: 0.9896 - val_loss: 0.0430 - val_accuracy: 0.9849\n",
            "Epoch 211/250\n",
            "125/125 [==============================] - 6s 47ms/step - loss: 0.0264 - accuracy: 0.9896 - val_loss: 0.0448 - val_accuracy: 0.9842\n",
            "Epoch 212/250\n",
            "125/125 [==============================] - 6s 47ms/step - loss: 0.0263 - accuracy: 0.9897 - val_loss: 0.0445 - val_accuracy: 0.9843\n",
            "Epoch 213/250\n",
            "125/125 [==============================] - 6s 46ms/step - loss: 0.0262 - accuracy: 0.9897 - val_loss: 0.0439 - val_accuracy: 0.9846\n",
            "Epoch 214/250\n",
            "125/125 [==============================] - 6s 46ms/step - loss: 0.0262 - accuracy: 0.9897 - val_loss: 0.0456 - val_accuracy: 0.9840\n",
            "Epoch 215/250\n",
            "125/125 [==============================] - 6s 46ms/step - loss: 0.0261 - accuracy: 0.9897 - val_loss: 0.0426 - val_accuracy: 0.9849\n",
            "Epoch 216/250\n",
            "125/125 [==============================] - 6s 46ms/step - loss: 0.0260 - accuracy: 0.9898 - val_loss: 0.0488 - val_accuracy: 0.9832\n",
            "Epoch 217/250\n",
            "125/125 [==============================] - 6s 46ms/step - loss: 0.0260 - accuracy: 0.9898 - val_loss: 0.0425 - val_accuracy: 0.9849\n",
            "Epoch 218/250\n",
            "125/125 [==============================] - 6s 46ms/step - loss: 0.0259 - accuracy: 0.9898 - val_loss: 0.0428 - val_accuracy: 0.9847\n",
            "Epoch 219/250\n",
            "125/125 [==============================] - 6s 46ms/step - loss: 0.0258 - accuracy: 0.9898 - val_loss: 0.0427 - val_accuracy: 0.9850\n",
            "Epoch 220/250\n",
            "125/125 [==============================] - 6s 46ms/step - loss: 0.0257 - accuracy: 0.9899 - val_loss: 0.0451 - val_accuracy: 0.9840\n",
            "Epoch 221/250\n",
            "125/125 [==============================] - 6s 49ms/step - loss: 0.0257 - accuracy: 0.9899 - val_loss: 0.0431 - val_accuracy: 0.9848\n",
            "Epoch 222/250\n",
            "125/125 [==============================] - 6s 46ms/step - loss: 0.0256 - accuracy: 0.9899 - val_loss: 0.0431 - val_accuracy: 0.9848\n",
            "Epoch 223/250\n",
            "125/125 [==============================] - 6s 46ms/step - loss: 0.0256 - accuracy: 0.9899 - val_loss: 0.0434 - val_accuracy: 0.9846\n",
            "Epoch 224/250\n",
            "125/125 [==============================] - 6s 46ms/step - loss: 0.0255 - accuracy: 0.9899 - val_loss: 0.0423 - val_accuracy: 0.9849\n",
            "Epoch 225/250\n",
            "125/125 [==============================] - 6s 46ms/step - loss: 0.0254 - accuracy: 0.9900 - val_loss: 0.0432 - val_accuracy: 0.9848\n",
            "Epoch 226/250\n",
            "125/125 [==============================] - 6s 47ms/step - loss: 0.0254 - accuracy: 0.9900 - val_loss: 0.0431 - val_accuracy: 0.9850\n",
            "Epoch 227/250\n",
            "125/125 [==============================] - 6s 46ms/step - loss: 0.0253 - accuracy: 0.9901 - val_loss: 0.0422 - val_accuracy: 0.9852\n",
            "Epoch 228/250\n",
            "125/125 [==============================] - 6s 46ms/step - loss: 0.0252 - accuracy: 0.9901 - val_loss: 0.0424 - val_accuracy: 0.9852\n",
            "Epoch 229/250\n",
            "125/125 [==============================] - 6s 47ms/step - loss: 0.0253 - accuracy: 0.9901 - val_loss: 0.0444 - val_accuracy: 0.9850\n",
            "Epoch 230/250\n",
            "125/125 [==============================] - 6s 48ms/step - loss: 0.0252 - accuracy: 0.9901 - val_loss: 0.0426 - val_accuracy: 0.9849\n",
            "Epoch 231/250\n",
            "125/125 [==============================] - 6s 46ms/step - loss: 0.0251 - accuracy: 0.9901 - val_loss: 0.0430 - val_accuracy: 0.9849\n",
            "Epoch 232/250\n",
            "125/125 [==============================] - 6s 47ms/step - loss: 0.0252 - accuracy: 0.9901 - val_loss: 0.0432 - val_accuracy: 0.9848\n",
            "Epoch 233/250\n",
            "125/125 [==============================] - 6s 47ms/step - loss: 0.0250 - accuracy: 0.9902 - val_loss: 0.0419 - val_accuracy: 0.9851\n",
            "Epoch 234/250\n",
            "125/125 [==============================] - 6s 45ms/step - loss: 0.0249 - accuracy: 0.9902 - val_loss: 0.0425 - val_accuracy: 0.9851\n",
            "Epoch 235/250\n",
            "125/125 [==============================] - 6s 45ms/step - loss: 0.0249 - accuracy: 0.9902 - val_loss: 0.0421 - val_accuracy: 0.9853\n",
            "Epoch 236/250\n",
            "125/125 [==============================] - 6s 46ms/step - loss: 0.0248 - accuracy: 0.9902 - val_loss: 0.0426 - val_accuracy: 0.9850\n",
            "Epoch 237/250\n",
            "125/125 [==============================] - 6s 47ms/step - loss: 0.0248 - accuracy: 0.9903 - val_loss: 0.0452 - val_accuracy: 0.9840\n",
            "Epoch 238/250\n",
            "125/125 [==============================] - 6s 46ms/step - loss: 0.0246 - accuracy: 0.9903 - val_loss: 0.0423 - val_accuracy: 0.9851\n",
            "Epoch 239/250\n",
            "125/125 [==============================] - 6s 47ms/step - loss: 0.0246 - accuracy: 0.9903 - val_loss: 0.0420 - val_accuracy: 0.9853\n",
            "Epoch 240/250\n",
            "125/125 [==============================] - 6s 47ms/step - loss: 0.0246 - accuracy: 0.9903 - val_loss: 0.0426 - val_accuracy: 0.9850\n",
            "Epoch 241/250\n",
            "125/125 [==============================] - 6s 47ms/step - loss: 0.0245 - accuracy: 0.9904 - val_loss: 0.0429 - val_accuracy: 0.9849\n",
            "Epoch 242/250\n",
            "125/125 [==============================] - 6s 47ms/step - loss: 0.0245 - accuracy: 0.9904 - val_loss: 0.0433 - val_accuracy: 0.9849\n",
            "Epoch 243/250\n",
            "125/125 [==============================] - 6s 46ms/step - loss: 0.0244 - accuracy: 0.9904 - val_loss: 0.0422 - val_accuracy: 0.9852\n",
            "Epoch 244/250\n",
            "125/125 [==============================] - 6s 46ms/step - loss: 0.0243 - accuracy: 0.9904 - val_loss: 0.0417 - val_accuracy: 0.9854\n",
            "Epoch 245/250\n",
            "125/125 [==============================] - 6s 47ms/step - loss: 0.0243 - accuracy: 0.9904 - val_loss: 0.0415 - val_accuracy: 0.9853\n",
            "Epoch 246/250\n",
            "125/125 [==============================] - 6s 46ms/step - loss: 0.0242 - accuracy: 0.9905 - val_loss: 0.0429 - val_accuracy: 0.9850\n",
            "Epoch 247/250\n",
            "125/125 [==============================] - 6s 46ms/step - loss: 0.0241 - accuracy: 0.9905 - val_loss: 0.0424 - val_accuracy: 0.9853\n",
            "Epoch 248/250\n",
            "125/125 [==============================] - 6s 47ms/step - loss: 0.0242 - accuracy: 0.9905 - val_loss: 0.0417 - val_accuracy: 0.9853\n",
            "Epoch 249/250\n",
            "125/125 [==============================] - 6s 47ms/step - loss: 0.0243 - accuracy: 0.9904 - val_loss: 0.0446 - val_accuracy: 0.9843\n",
            "Epoch 250/250\n",
            "125/125 [==============================] - 6s 47ms/step - loss: 0.0240 - accuracy: 0.9906 - val_loss: 0.0422 - val_accuracy: 0.9851\n"
          ],
          "name": "stdout"
        }
      ]
    },
    {
      "cell_type": "markdown",
      "metadata": {
        "id": "BLNzLB3peeNG"
      },
      "source": [
        "**Expected Output:**\n",
        "\n",
        "The losses should generally be decreasing and the accuracies should generally be increasing. For example, observing the first 4 epochs should output something similar:\n",
        "\n",
        "```txt\n",
        "Epoch 1/70\n",
        "125/125 [==============================] - 6s 50ms/step - loss: 0.5542 - accuracy: 0.8635 - val_loss: 0.5335 - val_accuracy: 0.9427\n",
        "Epoch 2/70\n",
        "125/125 [==============================] - 6s 47ms/step - loss: 0.2315 - accuracy: 0.9425 - val_loss: 0.3362 - val_accuracy: 0.9427\n",
        "Epoch 3/70\n",
        "125/125 [==============================] - 6s 47ms/step - loss: 0.2118 - accuracy: 0.9426 - val_loss: 0.2592 - val_accuracy: 0.9427\n",
        "Epoch 4/70\n",
        "125/125 [==============================] - 6s 47ms/step - loss: 0.1782 - accuracy: 0.9431 - val_loss: 0.1770 - val_accuracy: 0.9432\n",
        "```"
      ]
    },
    {
      "cell_type": "markdown",
      "metadata": {
        "id": "eih-Q7GoXzJe"
      },
      "source": [
        "## Model Evaluation"
      ]
    },
    {
      "cell_type": "markdown",
      "metadata": {
        "id": "2bTkaFM2X1gr"
      },
      "source": [
        "### Make Predictions\n",
        "\n",
        "Let's get the predictions using our test dataset as input and print the shape."
      ]
    },
    {
      "cell_type": "code",
      "metadata": {
        "id": "zENjQuK0luH5",
        "colab": {
          "base_uri": "https://localhost:8080/"
        },
        "outputId": "8a27c096-4ea5-4ee4-a287-667223ad7e46"
      },
      "source": [
        "results = model.predict(test_dataset, steps=test_steps)\n",
        "\n",
        "print(results.shape)"
      ],
      "execution_count": 19,
      "outputs": [
        {
          "output_type": "stream",
          "text": [
            "(192, 64, 84, 11)\n"
          ],
          "name": "stdout"
        }
      ]
    },
    {
      "cell_type": "markdown",
      "metadata": {
        "id": "IReKPT_DZHjA"
      },
      "source": [
        "As you can see, the resulting shape is `(192, 64, 84, 11)`. This means that for each of the 192 images that we have in our test set, there are 11 predictions generated (i.e. one for each class: 0 to 1 plus background)."
      ]
    },
    {
      "cell_type": "markdown",
      "metadata": {
        "id": "OBPBqnHyaSaG"
      },
      "source": [
        "Thus, if you want to see the *probability* of the upper leftmost pixel of the 1st image belonging to class 0, then you can print something like `results[0,0,0,0]`. If you want the probability of the same pixel at class 10, then do `results[0,0,0,10]`.\n",
        "\n",
        "\n"
      ]
    },
    {
      "cell_type": "code",
      "metadata": {
        "id": "jwFiR9WAf0Av",
        "colab": {
          "base_uri": "https://localhost:8080/"
        },
        "outputId": "5061337d-81c5-499d-cc51-066935b69bf4"
      },
      "source": [
        "print(results[0,0,0,0])\n",
        "print(results[0,0,0,10])"
      ],
      "execution_count": 20,
      "outputs": [
        {
          "output_type": "stream",
          "text": [
            "5.1757794e-05\n",
            "0.99931455\n"
          ],
          "name": "stdout"
        }
      ]
    },
    {
      "cell_type": "markdown",
      "metadata": {
        "id": "wKDsqzKEf28V"
      },
      "source": [
        "What we're interested in is to get the *index* of the highest probability of each of these 11 slices and combine them in a single image. We can do that by getting the [argmax](https://numpy.org/doc/stable/reference/generated/numpy.argmax.html) at this axis."
      ]
    },
    {
      "cell_type": "code",
      "metadata": {
        "id": "0_Uj_uuV9TQt",
        "colab": {
          "base_uri": "https://localhost:8080/"
        },
        "outputId": "ba805f18-f52a-471e-a6d4-1b9d526da427"
      },
      "source": [
        "results = np.argmax(results, axis=3)\n",
        "\n",
        "print(results.shape)"
      ],
      "execution_count": 21,
      "outputs": [
        {
          "output_type": "stream",
          "text": [
            "(192, 64, 84)\n"
          ],
          "name": "stdout"
        }
      ]
    },
    {
      "cell_type": "markdown",
      "metadata": {
        "id": "ClaGbOLhdKD2"
      },
      "source": [
        "The new array generated per image now only specifies the indices of the class with the highest probability. Let's see the output class of the upper most left pixel. As you might have observed earlier when you inspected the dataset, the upper left corner is usually just part of the background (class 10). The actual digits are written somewhere in the middle parts of the image."
      ]
    },
    {
      "cell_type": "code",
      "metadata": {
        "id": "aBeBwvHQd2pZ",
        "colab": {
          "base_uri": "https://localhost:8080/"
        },
        "outputId": "f079cf06-623e-4582-cbce-686cb0b740ea"
      },
      "source": [
        "print(results[0,0,0])\n",
        "\n",
        "# prediction map for image 0\n",
        "print(results[0,:,:])"
      ],
      "execution_count": 22,
      "outputs": [
        {
          "output_type": "stream",
          "text": [
            "10\n",
            "[[10 10 10 ... 10 10 10]\n",
            " [10 10 10 ... 10 10 10]\n",
            " [10 10 10 ... 10 10 10]\n",
            " ...\n",
            " [10 10 10 ... 10 10 10]\n",
            " [10 10 10 ... 10 10 10]\n",
            " [10 10 10 ... 10 10 10]]\n"
          ],
          "name": "stdout"
        }
      ]
    },
    {
      "cell_type": "markdown",
      "metadata": {
        "id": "V3FxyNgrg7IE"
      },
      "source": [
        "We will use this `results` array when we evaluate our predictions."
      ]
    },
    {
      "cell_type": "markdown",
      "metadata": {
        "id": "hpKDUuAWX5Pj"
      },
      "source": [
        "### Metrics\n",
        "\n",
        "We showed in the lectures two ways to evaluate your predictions. The *intersection over union (IOU)* and the *dice score*. Recall that:\n",
        "\n",
        "$$IOU = \\frac{area\\_of\\_overlap}{area\\_of\\_union}$$\n",
        "<br>\n",
        "$$Dice Score = 2 * \\frac{area\\_of\\_overlap}{combined\\_area}$$\n",
        "\n",
        "The code below does that for you as you've also seen in the ungraded lab. A small smoothing factor is introduced in the denominators to prevent possible division by zero."
      ]
    },
    {
      "cell_type": "code",
      "metadata": {
        "id": "gKTpLmly_RXb"
      },
      "source": [
        "def class_wise_metrics(y_true, y_pred):\n",
        "  '''\n",
        "  Computes the class-wise IOU and Dice Score.\n",
        "\n",
        "  Args:\n",
        "    y_true (tensor) - ground truth label maps\n",
        "    y_pred (tensor) - predicted label maps\n",
        "  '''\n",
        "  class_wise_iou = []\n",
        "  class_wise_dice_score = []\n",
        "\n",
        "  smoothing_factor = 0.00001\n",
        "\n",
        "  for i in range(n_classes):\n",
        "    intersection = np.sum((y_pred == i) * (y_true == i))\n",
        "    y_true_area = np.sum((y_true == i))\n",
        "    y_pred_area = np.sum((y_pred == i))\n",
        "    combined_area = y_true_area + y_pred_area\n",
        "    \n",
        "    iou = (intersection) / (combined_area - intersection + smoothing_factor)\n",
        "    class_wise_iou.append(iou)\n",
        "    \n",
        "    dice_score =  2 * ((intersection) / (combined_area + smoothing_factor))\n",
        "    class_wise_dice_score.append(dice_score)\n",
        "\n",
        "  return class_wise_iou, class_wise_dice_score\n"
      ],
      "execution_count": 23,
      "outputs": []
    },
    {
      "cell_type": "markdown",
      "metadata": {
        "id": "FfWPwM4ZhHjE"
      },
      "source": [
        "### Visualize Predictions"
      ]
    },
    {
      "cell_type": "code",
      "metadata": {
        "id": "Hkbsk_P1fpRM",
        "lines_to_next_cell": 2,
        "colab": {
          "base_uri": "https://localhost:8080/",
          "height": 244
        },
        "outputId": "c29dfe8e-4da9-4cd1-b809-57e444dc2ccd"
      },
      "source": [
        "# place a number here between 0 to 191 to pick an image from the test set\n",
        "integer_slider = 105\n",
        "\n",
        "ds = test_dataset.unbatch()\n",
        "ds = ds.batch(200)\n",
        "images = []\n",
        "\n",
        "y_true_segments = []\n",
        "for image, annotation in ds.take(2):\n",
        "  y_true_segments = annotation\n",
        "  images = image\n",
        "  \n",
        "  \n",
        "iou, dice_score = class_wise_metrics(np.argmax(y_true_segments[integer_slider], axis=2), results[integer_slider])  \n",
        "show_annotation_and_prediction(image[integer_slider], annotation[integer_slider], results[integer_slider], iou, dice_score)\n"
      ],
      "execution_count": 24,
      "outputs": [
        {
          "output_type": "display_data",
          "data": {
            "image/png": "[encoded data removed]",
            "text/plain": [
              "<Figure size 1080x288 with 3 Axes>"
            ]
          },
          "metadata": {
            "tags": []
          }
        }
      ]
    },
    {
      "cell_type": "markdown",
      "metadata": {
        "id": "EiG9K4t6X9iZ"
      },
      "source": [
        "### Compute IOU Score and Dice Score of your model"
      ]
    },
    {
      "cell_type": "code",
      "metadata": {
        "id": "2706boF0CNNS",
        "lines_to_next_cell": 2,
        "colab": {
          "base_uri": "https://localhost:8080/"
        },
        "outputId": "f46fe22a-cbf9-4b72-bcf0-5ce862504735"
      },
      "source": [
        "cls_wise_iou, cls_wise_dice_score = class_wise_metrics(np.argmax(y_true_segments, axis=3), results)\n",
        "\n",
        "average_iou = 0.0\n",
        "for idx, (iou, dice_score) in enumerate(zip(cls_wise_iou[:-1], cls_wise_dice_score[:-1])):\n",
        "  print(\"Digit {}: IOU: {} Dice Score: {}\".format(idx, iou, dice_score)) \n",
        "  average_iou += iou\n",
        "\n",
        "grade = average_iou * 10\n",
        "\n",
        "print(\"\\nGrade is \" + str(grade))\n",
        "\n",
        "PASSING_GRADE = 60\n",
        "if (grade>PASSING_GRADE):\n",
        "  print(\"You passed!\")\n",
        "else:\n",
        "  print(\"You failed. Please check your model and re-train\")"
      ],
      "execution_count": 25,
      "outputs": [
        {
          "output_type": "stream",
          "text": [
            "Digit 0: IOU: 0.7749521981119004 Dice Score: 0.8732090914180711\n",
            "Digit 1: IOU: 0.776319385353242 Dice Score: 0.874076353334242\n",
            "Digit 2: IOU: 0.7318411699861819 Dice Score: 0.8451596863146765\n",
            "Digit 3: IOU: 0.7577997918707677 Dice Score: 0.8622139965829291\n",
            "Digit 4: IOU: 0.7630127110505812 Dice Score: 0.8655782301148596\n",
            "Digit 5: IOU: 0.6725960720379325 Dice Score: 0.8042540375195605\n",
            "Digit 6: IOU: 0.7536316936850599 Dice Score: 0.85950966374403\n",
            "Digit 7: IOU: 0.7896202012534894 Dice Score: 0.8824444434639507\n",
            "Digit 8: IOU: 0.6855306136731683 Dice Score: 0.8134300357550144\n",
            "Digit 9: IOU: 0.7568720367190016 Dice Score: 0.8616131635090252\n",
            "\n",
            "Grade is 74.62175873741324\n",
            "You passed!\n"
          ],
          "name": "stdout"
        }
      ]
    },
    {
      "cell_type": "markdown",
      "metadata": {
        "id": "vvw0HLY2kV3w"
      },
      "source": [
        "## Save the Model\n",
        "\n",
        "Once you're satisfied with the results, you will need to save your model so you can upload it to the grader in the Coursera classroom. After running the cell below, please look for `student_model.h5` in the File Explorer on the left and download it. Then go back to the Coursera classroom and upload it to the Lab item that points to the autograder of Week 3."
      ]
    },
    {
      "cell_type": "code",
      "metadata": {
        "id": "ULCfGHEKkaO0",
        "colab": {
          "base_uri": "https://localhost:8080/"
        },
        "outputId": "3fbf655a-c417-489d-af33-88bd38064ec1"
      },
      "source": [
        "model.save(\"model.h5\")"
      ],
      "execution_count": 26,
      "outputs": [
        {
          "output_type": "stream",
          "text": [
            "/usr/local/lib/python3.7/dist-packages/tensorflow/python/keras/utils/generic_utils.py:497: CustomMaskWarning: Custom mask layers require a config and must override get_config. When loading, the custom mask layer must be passed to the custom_objects argument.\n",
            "  category=CustomMaskWarning)\n"
          ],
          "name": "stderr"
        }
      ]
    },
    {
      "cell_type": "code",
      "metadata": {
        "id": "QbVfJ2aLONqw",
        "colab": {
          "base_uri": "https://localhost:8080/",
          "height": 17
        },
        "outputId": "7f0fe532-7114-452a-9120-dccb70a37110"
      },
      "source": [
        "# You can also use this cell as a shortcut for downloading your model\n",
        "from google.colab import files\n",
        "files.download(\"model.h5\")"
      ],
      "execution_count": 27,
      "outputs": [
        {
          "output_type": "display_data",
          "data": {
            "application/javascript": [
              "\n",
              "    async function download(id, filename, size) {\n",
              "      if (!google.colab.kernel.accessAllowed) {\n",
              "        return;\n",
              "      }\n",
              "      const div = document.createElement('div');\n",
              "      const label = document.createElement('label');\n",
              "      label.textContent = `Downloading \"${filename}\": `;\n",
              "      div.appendChild(label);\n",
              "      const progress = document.createElement('progress');\n",
              "      progress.max = size;\n",
              "      div.appendChild(progress);\n",
              "      document.body.appendChild(div);\n",
              "\n",
              "      const buffers = [];\n",
              "      let downloaded = 0;\n",
              "\n",
              "      const channel = await google.colab.kernel.comms.open(id);\n",
              "      // Send a message to notify the kernel that we're ready.\n",
              "      channel.send({})\n",
              "\n",
              "      for await (const message of channel.messages) {\n",
              "        // Send a message to notify the kernel that we're ready.\n",
              "        channel.send({})\n",
              "        if (message.buffers) {\n",
              "          for (const buffer of message.buffers) {\n",
              "            buffers.push(buffer);\n",
              "            downloaded += buffer.byteLength;\n",
              "            progress.value = downloaded;\n",
              "          }\n",
              "        }\n",
              "      }\n",
              "      const blob = new Blob(buffers, {type: 'application/binary'});\n",
              "      const a = document.createElement('a');\n",
              "      a.href = window.URL.createObjectURL(blob);\n",
              "      a.download = filename;\n",
              "      div.appendChild(a);\n",
              "      a.click();\n",
              "      div.remove();\n",
              "    }\n",
              "  "
            ],
            "text/plain": [
              "<IPython.core.display.Javascript object>"
            ]
          },
          "metadata": {
            "tags": []
          }
        },
        {
          "output_type": "display_data",
          "data": {
            "application/javascript": [
              "download(\"download_a485ebdf-aec0-4cf5-b6e5-9d5a16fcf4e8\", \"model.h5\", 72718000)"
            ],
            "text/plain": [
              "<IPython.core.display.Javascript object>"
            ]
          },
          "metadata": {
            "tags": []
          }
        }
      ]
    },
    {
      "cell_type": "markdown",
      "metadata": {
        "id": "dmyvoAynkgVw"
      },
      "source": [
        "**Congratulations on completing this assignment on image segmentation!**"
      ]
    }
  ]
}